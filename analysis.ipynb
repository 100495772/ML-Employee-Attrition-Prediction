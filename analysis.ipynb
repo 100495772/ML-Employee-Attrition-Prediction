{
 "cells": [
  {
   "metadata": {},
   "cell_type": "markdown",
   "source": [
    "Ilinca Bianca Mitrea Mitrea 100495772\n",
    "\n",
    "David Mancebo Barrena 100495917"
   ],
   "id": "b91d6f8d12494a58"
  },
  {
   "metadata": {},
   "cell_type": "markdown",
   "source": [
    "# 1.EDA\n",
    "\n",
    "Importaciones previas"
   ],
   "id": "806a6737a45b1e5b"
  },
  {
   "metadata": {
    "ExecuteTime": {
     "end_time": "2025-03-06T07:37:17.008756500Z",
     "start_time": "2025-03-06T07:37:15.874668900Z"
    }
   },
   "cell_type": "code",
   "source": [
    "import pandas as pd\n",
    "from sklearn.pipeline import Pipeline\n",
    "from sklearn.impute import SimpleImputer\n",
    "from sklearn.preprocessing import StandardScaler, OneHotEncoder, OrdinalEncoder\n",
    "from sklearn.compose import ColumnTransformer\n",
    "from sklearn.model_selection import train_test_split\n",
    "from sklearn.model_selection import GridSearchCV\n",
    "from sklearn.preprocessing import MinMaxScaler, RobustScaler\n",
    "from sklearn.neighbors import KNeighborsClassifier\n",
    "from sklearn.metrics import balanced_accuracy_score, accuracy_score, confusion_matrix, classification_report\n",
    "from sklearn.tree import DecisionTreeClassifier"
   ],
   "id": "b3caf4c90435d42f",
   "outputs": [],
   "execution_count": 1
  },
  {
   "metadata": {},
   "cell_type": "markdown",
   "source": "## Número de variables e instancias",
   "id": "81632e54174c4eb3"
  },
  {
   "metadata": {
    "collapsed": true,
    "ExecuteTime": {
     "end_time": "2025-03-06T07:37:17.023863900Z",
     "start_time": "2025-03-06T07:37:17.008756500Z"
    }
   },
   "cell_type": "code",
   "source": [
    "df = pd.read_csv(\"attrition_availabledata_08.csv\")\n",
    "print(\"Número de instancias:\", df.shape[0])\n",
    "print(\"Número de variables:\", df.shape[1])\n"
   ],
   "id": "initial_id",
   "outputs": [
    {
     "name": "stdout",
     "output_type": "stream",
     "text": [
      "Número de instancias: 2940\n",
      "Número de variables: 31\n"
     ]
    }
   ],
   "execution_count": 2
  },
  {
   "metadata": {},
   "cell_type": "markdown",
   "source": "## Tipo de variables\n",
   "id": "dea8c1da241372ab"
  },
  {
   "metadata": {},
   "cell_type": "markdown",
   "source": "Para identificar el tipo de cada variable en el dataset vamos a utilizar funciones de pandas.",
   "id": "144024fa986b7385"
  },
  {
   "metadata": {
    "ExecuteTime": {
     "end_time": "2025-03-06T07:37:17.038854700Z",
     "start_time": "2025-03-06T07:37:17.023863900Z"
    }
   },
   "cell_type": "code",
   "source": "df.info()",
   "id": "631f392692db4d08",
   "outputs": [
    {
     "name": "stdout",
     "output_type": "stream",
     "text": [
      "<class 'pandas.core.frame.DataFrame'>\n",
      "RangeIndex: 2940 entries, 0 to 2939\n",
      "Data columns (total 31 columns):\n",
      " #   Column                   Non-Null Count  Dtype  \n",
      "---  ------                   --------------  -----  \n",
      " 0   hrs                      2940 non-null   float64\n",
      " 1   absences                 2940 non-null   int64  \n",
      " 2   JobInvolvement           2940 non-null   int64  \n",
      " 3   PerformanceRating        2940 non-null   int64  \n",
      " 4   EnvironmentSatisfaction  2923 non-null   float64\n",
      " 5   JobSatisfaction          2928 non-null   float64\n",
      " 6   WorkLifeBalance          2916 non-null   float64\n",
      " 7   Age                      2940 non-null   int64  \n",
      " 8   BusinessTravel           2940 non-null   object \n",
      " 9   Department               2940 non-null   object \n",
      " 10  DistanceFromHome         2940 non-null   int64  \n",
      " 11  Education                2940 non-null   int64  \n",
      " 12  EducationField           2940 non-null   object \n",
      " 13  EmployeeCount            2940 non-null   int64  \n",
      " 14  EmployeeID               2940 non-null   int64  \n",
      " 15  Gender                   2940 non-null   object \n",
      " 16  JobLevel                 2940 non-null   int64  \n",
      " 17  JobRole                  2940 non-null   object \n",
      " 18  MaritalStatus            2940 non-null   object \n",
      " 19  MonthlyIncome            2940 non-null   int64  \n",
      " 20  NumCompaniesWorked       2929 non-null   float64\n",
      " 21  Over18                   2940 non-null   object \n",
      " 22  PercentSalaryHike        2940 non-null   int64  \n",
      " 23  StandardHours            2940 non-null   int64  \n",
      " 24  StockOptionLevel         2940 non-null   int64  \n",
      " 25  TotalWorkingYears        2936 non-null   float64\n",
      " 26  TrainingTimesLastYear    2940 non-null   int64  \n",
      " 27  YearsAtCompany           2940 non-null   int64  \n",
      " 28  YearsSinceLastPromotion  2940 non-null   int64  \n",
      " 29  YearsWithCurrManager     2940 non-null   int64  \n",
      " 30  Attrition                2940 non-null   object \n",
      "dtypes: float64(6), int64(17), object(8)\n",
      "memory usage: 712.2+ KB\n"
     ]
    }
   ],
   "execution_count": 3
  },
  {
   "metadata": {
    "ExecuteTime": {
     "end_time": "2025-03-06T07:37:17.126705700Z",
     "start_time": "2025-03-06T07:37:17.033870300Z"
    }
   },
   "cell_type": "code",
   "source": [
    "# Seleccionar variables numéricas\n",
    "numeric_vars = df.select_dtypes(include=['number'])\n",
    "print(\"Variables numéricas:\", numeric_vars.columns)\n",
    "print(\"Número de variables numéricas:\", len(numeric_vars.columns))\n",
    "\n",
    "# Seleccionar variables categóricas\n",
    "categorical_vars = df.select_dtypes(include=['object'])\n",
    "print(\"Variables categóricas:\", categorical_vars.columns)\n",
    "print(\"Número de variables categóricas:\", len(categorical_vars.columns))"
   ],
   "id": "ff07b7c5800c2d8c",
   "outputs": [
    {
     "name": "stdout",
     "output_type": "stream",
     "text": [
      "Variables numéricas: Index(['hrs', 'absences', 'JobInvolvement', 'PerformanceRating',\n",
      "       'EnvironmentSatisfaction', 'JobSatisfaction', 'WorkLifeBalance', 'Age',\n",
      "       'DistanceFromHome', 'Education', 'EmployeeCount', 'EmployeeID',\n",
      "       'JobLevel', 'MonthlyIncome', 'NumCompaniesWorked', 'PercentSalaryHike',\n",
      "       'StandardHours', 'StockOptionLevel', 'TotalWorkingYears',\n",
      "       'TrainingTimesLastYear', 'YearsAtCompany', 'YearsSinceLastPromotion',\n",
      "       'YearsWithCurrManager'],\n",
      "      dtype='object')\n",
      "Número de variables numéricas: 23\n",
      "Variables categóricas: Index(['BusinessTravel', 'Department', 'EducationField', 'Gender', 'JobRole',\n",
      "       'MaritalStatus', 'Over18', 'Attrition'],\n",
      "      dtype='object')\n",
      "Número de variables categóricas: 8\n"
     ]
    }
   ],
   "execution_count": 4
  },
  {
   "metadata": {},
   "cell_type": "markdown",
   "source": [
    "\n",
    "\n",
    "De las 8 variables categóricas, se puede observar que una de ellas es ordinal. Por lo que:\n",
    "Número de variables numéricas: 23\n",
    "\n",
    "Número de variables categóricas: 8\n",
    "\n",
    "Variables ordinales: BusinessTravel."
   ],
   "id": "f667a8bad1866b94"
  },
  {
   "metadata": {},
   "cell_type": "markdown",
   "source": "## Cardinalidad de las variables categóricas",
   "id": "37b324c0a6a180bf"
  },
  {
   "metadata": {
    "ExecuteTime": {
     "end_time": "2025-03-06T07:37:17.144728100Z",
     "start_time": "2025-03-06T07:37:17.039929900Z"
    }
   },
   "cell_type": "code",
   "source": [
    "cardinality = categorical_vars.nunique().sort_values(ascending=False)\n",
    "print(\"Cardinalidad de cada variable categórica:\")\n",
    "print(cardinality)"
   ],
   "id": "61cb75b69f3458d9",
   "outputs": [
    {
     "name": "stdout",
     "output_type": "stream",
     "text": [
      "Cardinalidad de cada variable categórica:\n",
      "JobRole           9\n",
      "EducationField    6\n",
      "Department        3\n",
      "BusinessTravel    3\n",
      "MaritalStatus     3\n",
      "Gender            2\n",
      "Attrition         2\n",
      "Over18            1\n",
      "dtype: int64\n"
     ]
    }
   ],
   "execution_count": 5
  },
  {
   "metadata": {},
   "cell_type": "markdown",
   "source": "Observamos que las variables con mayor cardinalidad son JobRole, con una cardinalidad de 9, y EducationField, con una cardinalidad de 6.\n",
   "id": "89ae8cd5a5144efc"
  },
  {
   "metadata": {},
   "cell_type": "markdown",
   "source": "## Valores faltantes",
   "id": "6ebdd4ae3b4feda9"
  },
  {
   "metadata": {},
   "cell_type": "markdown",
   "source": "Vamos a contar los valores faltantes.",
   "id": "4fc92d9b1360ae88"
  },
  {
   "metadata": {
    "ExecuteTime": {
     "end_time": "2025-03-06T07:37:17.146829700Z",
     "start_time": "2025-03-06T07:37:17.049516200Z"
    }
   },
   "cell_type": "code",
   "source": [
    "# Contar valores faltantes en cada columna\n",
    "missing_values = df.isnull().sum()\n",
    "\n",
    "# Filtrar solo las variables que tienen valores faltantes\n",
    "missing_values = missing_values[missing_values > 0]\n",
    "\n",
    "print(\"Variables con valores faltantes y su cantidad:\")\n",
    "print(missing_values)\n",
    "\n",
    "# Calcular el porcentaje de valores faltantes\n",
    "missing_percentage = (df.isnull().sum() / len(df)) * 100\n",
    "\n",
    "# Filtrar solo las columnas que tienen valores faltantes\n",
    "missing_percentage = missing_percentage[missing_percentage > 0]\n",
    "\n",
    "print(\"\\nPorcentaje de valores faltantes por variable:\")\n",
    "print(missing_percentage.sort_values(ascending=False))\n"
   ],
   "id": "89f9a63fa1d5d2ee",
   "outputs": [
    {
     "name": "stdout",
     "output_type": "stream",
     "text": [
      "Variables con valores faltantes y su cantidad:\n",
      "EnvironmentSatisfaction    17\n",
      "JobSatisfaction            12\n",
      "WorkLifeBalance            24\n",
      "NumCompaniesWorked         11\n",
      "TotalWorkingYears           4\n",
      "dtype: int64\n",
      "\n",
      "Porcentaje de valores faltantes por variable:\n",
      "WorkLifeBalance            0.816327\n",
      "EnvironmentSatisfaction    0.578231\n",
      "JobSatisfaction            0.408163\n",
      "NumCompaniesWorked         0.374150\n",
      "TotalWorkingYears          0.136054\n",
      "dtype: float64\n"
     ]
    }
   ],
   "execution_count": 6
  },
  {
   "metadata": {},
   "cell_type": "markdown",
   "source": "Observamos que el porcentaje de valores faltantes es bajo, por lo que podríamos simplemente eliminarlos o usar imputación básica.",
   "id": "9b05d557cfb15de1"
  },
  {
   "metadata": {},
   "cell_type": "markdown",
   "source": "## Columnas constantes e identificadores",
   "id": "56c7e7e938ab7f20"
  },
  {
   "metadata": {
    "ExecuteTime": {
     "end_time": "2025-03-06T07:37:17.164801300Z",
     "start_time": "2025-03-06T07:37:17.056912300Z"
    }
   },
   "cell_type": "code",
   "source": [
    "# Contar valores únicos por columna\n",
    "constant_cols = df.nunique()[df.nunique() == 1]\n",
    "\n",
    "print(\"Columnas constantes:\")\n",
    "print(constant_cols)\n",
    "\n",
    "# Contar valores únicos en cada columna y compararlos con el número de filas\n",
    "id_cols = df.nunique()[df.nunique() == df.shape[0]]\n",
    "\n",
    "print(\"\\nColumnas de ID:\")\n",
    "print(id_cols)\n"
   ],
   "id": "ad45fb27cc8634e7",
   "outputs": [
    {
     "name": "stdout",
     "output_type": "stream",
     "text": [
      "Columnas constantes:\n",
      "EmployeeCount    1\n",
      "Over18           1\n",
      "StandardHours    1\n",
      "dtype: int64\n",
      "\n",
      "Columnas de ID:\n",
      "EmployeeID    2940\n",
      "dtype: int64\n"
     ]
    }
   ],
   "execution_count": 7
  },
  {
   "metadata": {},
   "cell_type": "markdown",
   "source": "## Tipo de problema",
   "id": "ae755023c341e0c9"
  },
  {
   "metadata": {},
   "cell_type": "markdown",
   "source": "En este caso, la variable Attrition indica si un empleado renuncia, por lo que es un problema de clasificación.",
   "id": "93e0957b224103e3"
  },
  {
   "metadata": {},
   "cell_type": "markdown",
   "source": "## Desbalanceo de datos\n",
   "id": "3750b7f937717536"
  },
  {
   "metadata": {
    "ExecuteTime": {
     "end_time": "2025-03-06T07:37:17.261491Z",
     "start_time": "2025-03-06T07:37:17.079546Z"
    }
   },
   "cell_type": "code",
   "source": [
    "# Contar las instancias por cada clase\n",
    "conteo = df['Attrition'].value_counts()\n",
    "print(\"Conteo por clase:\")\n",
    "print(conteo)\n",
    "\n",
    "# Calcular el porcentaje de cada clase\n",
    "porcentajes = df['Attrition'].value_counts(normalize=True) * 100\n",
    "print(\"\\nPorcentaje por clase:\")\n",
    "print(porcentajes)"
   ],
   "id": "820710eff4d87c11",
   "outputs": [
    {
     "name": "stdout",
     "output_type": "stream",
     "text": [
      "Conteo por clase:\n",
      "Attrition\n",
      "No     2466\n",
      "Yes     474\n",
      "Name: count, dtype: int64\n",
      "\n",
      "Porcentaje por clase:\n",
      "Attrition\n",
      "No     83.877551\n",
      "Yes    16.122449\n",
      "Name: proportion, dtype: float64\n"
     ]
    }
   ],
   "execution_count": 8
  },
  {
   "metadata": {},
   "cell_type": "markdown",
   "source": "También podemos visualizar la distribución con un gráfico de barras",
   "id": "fc68fccb0f3d2002"
  },
  {
   "metadata": {
    "ExecuteTime": {
     "end_time": "2025-03-06T07:37:17.306382200Z",
     "start_time": "2025-03-06T07:37:17.085838700Z"
    }
   },
   "cell_type": "code",
   "source": [
    "import seaborn as sns\n",
    "import matplotlib.pyplot as plt\n",
    "\n",
    "sns.countplot(x='Attrition', data=df)\n",
    "plt.title(\"Distribución de la variable 'Attrition'\")\n",
    "plt.show()\n"
   ],
   "id": "6c4fe09c75554b91",
   "outputs": [
    {
     "data": {
      "text/plain": "<Figure size 640x480 with 1 Axes>",
      "image/png": "[encoded data removed]"
     },
     "metadata": {},
     "output_type": "display_data"
    }
   ],
   "execution_count": 9
  },
  {
   "metadata": {},
   "cell_type": "markdown",
   "source": [
    "Sí, el dataset está desbalanceado porque la clase mayoritaria (\"No\" - empleados que no abandonan la empresa) representa el 83.88% de los datos, mientras que la clase minoritaria (\"Yes\" - empleados que abandonan la empresa) solo representa el 16.12%.\n",
    "Podríamos usar SMOTE para aumentar la clase minoritaria (oversampling)\n"
   ],
   "id": "7d5b53d00e59bf67"
  },
  {
   "metadata": {},
   "cell_type": "markdown",
   "source": "# 2. Preprocesamiento de datos",
   "id": "fba84fb42e9f6cbe"
  },
  {
   "metadata": {},
   "cell_type": "markdown",
   "source": [
    "Según las diapositivas de clase el preproceso tiene las siguientes fases en general:\n",
    "\n",
    "Instancias:\n",
    "1. Quitar datos ruidosos (Wilson editing rule) (sobre todo para KNN)\n",
    "2. Quitar datos redundantes (Condensación, sobre todo para KNN)\n",
    "3. Re-balanceo en problemas de clase desbalanceada: oversampling,\n",
    "undersampling, SMOTE – Synthetic Minority Over-sampling Technique, …\n",
    "\n",
    "Atributos:\n",
    "1. Escalado/Normalización (MinMax, Standard, Robust)\n",
    "2. Quitar atributos constantes\n",
    "3. Imputación (¿qué hacer con valores faltantes (missing values))?\n",
    "4. Codificación de atributos categóricos (one-hot-encoding/dummy variables,\n",
    "codificación ordinal, alta cardinalidad, …)\n",
    "5. Selección de atributos\n",
    "6. Transformación de atributos (PCA, ...) \""
   ],
   "id": "c9c06c1408c1973b"
  },
  {
   "metadata": {},
   "cell_type": "markdown",
   "source": [
    "Vamos a hacer el preproceso de datos mediante un pipeline para evitar information leakage.\n",
    "\n",
    "Usaremos un pipeline de preprocesamiento que incluya:\n",
    "\n",
    "- Encoding (One-Hot y Label/Ordinal Encoding según corresponda)\n",
    "- Imputación de valores faltantes\n",
    "\n",
    "Esto asegurará que el preprocesamiento se realice de manera consistente en train y test, evitando errores y asegurando reproducibilidad.\n",
    "\n",
    "Pero antes de hacer el pipeline, podemos hacer:\n",
    "- Eliminación de atributos constantes\n",
    "- Eliminación de identificadores\n",
    "\n",
    "Se pueden realizar una sola vez antes del entrenamiento y no necesitan ajustes posteriores."
   ],
   "id": "b63668a032b94765"
  },
  {
   "metadata": {},
   "cell_type": "markdown",
   "source": "## Eliminar atributos constantes e identificadores",
   "id": "3fdf8adcac7aec30"
  },
  {
   "metadata": {},
   "cell_type": "markdown",
   "source": "Ya hemos visto previamente que tenemos 3 columnas constantes y una columna ID.",
   "id": "f69cffe31a63a186"
  },
  {
   "metadata": {
    "ExecuteTime": {
     "end_time": "2025-03-06T07:37:17.315768600Z",
     "start_time": "2025-03-06T07:37:17.239575Z"
    }
   },
   "cell_type": "code",
   "source": [
    "original_columns = set(df.columns)\n",
    "\n",
    "id_columns = ['EmployeeID'] \n",
    "df = df.drop(columns=id_columns, errors='ignore')\n",
    "\n",
    "# Eliminar columnas constantes\n",
    "constant_columns = [col for col in df.columns if df[col].nunique() <= 1]\n",
    "df = df.drop(columns=constant_columns, errors='ignore')\n",
    "\n",
    "# Mostrar las columnas eliminadas\n",
    "removed_columns = original_columns - set(df.columns)\n",
    "if removed_columns:\n",
    "    print(\"Columnas eliminadas:\")\n",
    "    print(list(removed_columns))\n",
    "else:\n",
    "    print(\"No se eliminaron columnas.\")"
   ],
   "id": "cda90625ed283684",
   "outputs": [
    {
     "name": "stdout",
     "output_type": "stream",
     "text": [
      "Columnas eliminadas:\n",
      "['Over18', 'EmployeeID', 'EmployeeCount', 'StandardHours']\n"
     ]
    }
   ],
   "execution_count": 10
  },
  {
   "metadata": {},
   "cell_type": "markdown",
   "source": "## Encoding",
   "id": "3f2aa5d1df317daf"
  },
  {
   "metadata": {
    "ExecuteTime": {
     "end_time": "2025-03-06T07:37:17.316807600Z",
     "start_time": "2025-03-06T07:37:17.247370800Z"
    }
   },
   "cell_type": "code",
   "source": [
    "# Identificar variables categóricas\n",
    "categorical_cols = df.select_dtypes(include=['object']).columns\n",
    "print(\"Variables categóricas:\", categorical_cols)"
   ],
   "id": "ded75f155ffd4c7",
   "outputs": [
    {
     "name": "stdout",
     "output_type": "stream",
     "text": [
      "Variables categóricas: Index(['BusinessTravel', 'Department', 'EducationField', 'Gender', 'JobRole',\n",
      "       'MaritalStatus', 'Attrition'],\n",
      "      dtype='object')\n"
     ]
    }
   ],
   "execution_count": 11
  },
  {
   "metadata": {},
   "cell_type": "markdown",
   "source": "Vamos a identificar las variables ordinales dentro de las variables categóricas para determinar qué tipo de encoding haremos para cada una.",
   "id": "d9373519ee67051f"
  },
  {
   "metadata": {
    "ExecuteTime": {
     "end_time": "2025-03-06T07:37:17.318894300Z",
     "start_time": "2025-03-06T07:37:17.255988Z"
    }
   },
   "cell_type": "code",
   "source": [
    "# Valores únicos por cada variable categórica\n",
    "for col in categorical_cols:\n",
    "    print(f\"\\n{col}:\")\n",
    "    print(df[col].unique())\n"
   ],
   "id": "3e61d89db7dbf53c",
   "outputs": [
    {
     "name": "stdout",
     "output_type": "stream",
     "text": [
      "\n",
      "BusinessTravel:\n",
      "['Non-Travel' 'Travel_Frequently' 'Travel_Rarely']\n",
      "\n",
      "Department:\n",
      "['Research & Development' 'Sales' 'Human Resources']\n",
      "\n",
      "EducationField:\n",
      "['Other' 'Marketing' 'Life Sciences' 'Technical Degree' 'Medical'\n",
      " 'Human Resources']\n",
      "\n",
      "Gender:\n",
      "['Female' 'Male']\n",
      "\n",
      "JobRole:\n",
      "['Research Scientist' 'Manufacturing Director' 'Healthcare Representative'\n",
      " 'Sales Executive' 'Manager' 'Laboratory Technician' 'Research Director'\n",
      " 'Sales Representative' 'Human Resources']\n",
      "\n",
      "MaritalStatus:\n",
      "['Divorced' 'Married' 'Single']\n",
      "\n",
      "Attrition:\n",
      "['No' 'Yes']\n"
     ]
    }
   ],
   "execution_count": 12
  },
  {
   "metadata": {},
   "cell_type": "markdown",
   "source": [
    "Vemos que todas son categóricas, excepto BusinessTravel que es ordinal porque tiene un orden implícito. Attrition y gender pueden tratarse como variables binarias.\n",
    "\n",
    "Para variables ordinales: usamos Label Encoding\n",
    "\n",
    "Para variables nominales: usamos One-Hot Encoding\n",
    "\n",
    "Para variables binarias: convertimos a 0 y 1\n"
   ],
   "id": "fc471f5ec569607d"
  },
  {
   "metadata": {
    "ExecuteTime": {
     "end_time": "2025-03-06T07:37:17.322088400Z",
     "start_time": "2025-03-06T07:37:17.263610100Z"
    }
   },
   "cell_type": "code",
   "source": [
    "# Identificar columnas categóricas y numéricas\n",
    "\n",
    "all_categorical = df.select_dtypes(include=['object']).columns.tolist()\n",
    "\n",
    "# Remover la variable target, si se detecta entre las categóricas\n",
    "target = 'Attrition'\n",
    "if target in all_categorical:\n",
    "    all_categorical.remove(target)\n",
    "    \n",
    "# Definimos la variable ordinal\n",
    "ordinal_cols = ['BusinessTravel']\n",
    "\n",
    "# Las columnas nominales serán las categóricas menos las ordinales\n",
    "categorical_cols = [col for col in all_categorical if col not in ordinal_cols]\n",
    "\n",
    "numerical_cols = df.select_dtypes(include=['number']).columns.tolist()\n",
    "\n",
    "\n",
    "# Imprimir resultados para verificar\n",
    "print(\"Number of ordinal columns:\", len(ordinal_cols))\n",
    "print(\"Ordinal columns:\", ordinal_cols)\n",
    "for col in ordinal_cols:\n",
    "    # Obtener valores únicos y ordenarlos\n",
    "    ordinal_values = [sorted(df[col].dropna().unique()) for col in ordinal_cols]\n",
    "    print(\"Values of \", ordinal_cols, \": \", ordinal_values)\n",
    "print(\"Number of nominal columns:\", len(categorical_cols))\n",
    "print(\"Nominal columns:\", categorical_cols)\n",
    "print(\"Number of numerical columns:\", len(numerical_cols))\n",
    "print(\"Numerical columns:\", numerical_cols)"
   ],
   "id": "d4ef176340cff44b",
   "outputs": [
    {
     "name": "stdout",
     "output_type": "stream",
     "text": [
      "Number of ordinal columns: 1\n",
      "Ordinal columns: ['BusinessTravel']\n",
      "Values of  ['BusinessTravel'] :  [['Non-Travel', 'Travel_Frequently', 'Travel_Rarely']]\n",
      "Number of nominal columns: 5\n",
      "Nominal columns: ['Department', 'EducationField', 'Gender', 'JobRole', 'MaritalStatus']\n",
      "Number of numerical columns: 20\n",
      "Numerical columns: ['hrs', 'absences', 'JobInvolvement', 'PerformanceRating', 'EnvironmentSatisfaction', 'JobSatisfaction', 'WorkLifeBalance', 'Age', 'DistanceFromHome', 'Education', 'JobLevel', 'MonthlyIncome', 'NumCompaniesWorked', 'PercentSalaryHike', 'StockOptionLevel', 'TotalWorkingYears', 'TrainingTimesLastYear', 'YearsAtCompany', 'YearsSinceLastPromotion', 'YearsWithCurrManager']\n"
     ]
    }
   ],
   "execution_count": 13
  },
  {
   "metadata": {},
   "cell_type": "markdown",
   "source": "Esta información nos servirá para la parte de encoding dentro de la definición de pipeline que utilizaremos en el preprocesamiento.",
   "id": "5b6000e922837c1b"
  },
  {
   "metadata": {},
   "cell_type": "markdown",
   "source": "## Imputación",
   "id": "a8b19e989871ada5"
  },
  {
   "metadata": {},
   "cell_type": "markdown",
   "source": [
    "La imputación se debe hacer solo con los datos de entrenamiento, ya que los datos de test son datos del futuro y, por tanto, debemos suponer que no los conocemos para evitar information leakage o fuga de información. \n",
    "\n",
    "Para hacer imputación cuando puede ocurrir information leakage, lo correcto es construir un pipeline.\n",
    "\n",
    "Si tenemos que imputar los atributos del conjunto de test, usaremos las medias o mediana calculadas con el conjunto de entrenamiento (reimputación), para evitar fuga de información del conjunto de test."
   ],
   "id": "448e771efbc23d58"
  },
  {
   "metadata": {
    "ExecuteTime": {
     "end_time": "2025-03-06T07:37:17.473006800Z",
     "start_time": "2025-03-06T07:37:17.271548600Z"
    }
   },
   "cell_type": "code",
   "source": [
    "# Valores faltantes en variables numéricas\n",
    "num_missing = df[numerical_cols].isnull().sum()\n",
    "num_missing_percent = (num_missing / len(df)) * 100\n",
    "\n",
    "# Filtrar solo las columnas con valores faltantes\n",
    "missing_numerical = pd.DataFrame({\n",
    "    'Missing Count': num_missing,\n",
    "    'Missing Percent': num_missing_percent\n",
    "}).query('`Missing Count` > 0').sort_values(by='Missing Count', ascending=False)\n",
    "\n",
    "print(\"Valores faltantes en variables numéricas:\")\n",
    "if not missing_numerical.empty:\n",
    "    print(missing_numerical)\n",
    "else:\n",
    "    print(\"No hay valores faltantes en variables numéricas.\")\n",
    "\n",
    "# Valores faltantes en variables categóricas nominales\n",
    "missing_nominal = df[categorical_cols].isnull().sum()\n",
    "missing_nominal_percent = (missing_nominal / len(df)) * 100\n",
    "\n",
    "# Filtrar solo las columnas con valores faltantes\n",
    "missing_nominal_df = pd.DataFrame({\n",
    "    'Missing Count': missing_nominal,\n",
    "    'Missing Percent': missing_nominal_percent\n",
    "}).query('`Missing Count` > 0').sort_values(by='Missing Count', ascending=False)\n",
    "\n",
    "print(\"\\nValores faltantes en variables categóricas nominales:\")\n",
    "if not missing_nominal_df.empty:\n",
    "    print(missing_nominal_df)\n",
    "else:\n",
    "    print(\"No hay valores faltantes en variables categóricas nominales.\")\n",
    "\n",
    "# Valores faltantes en variables ordinales\n",
    "missing_ordinal = df[ordinal_cols].isnull().sum()\n",
    "missing_ordinal_percent = (missing_ordinal / len(df)) * 100\n",
    "\n",
    "# Filtrar solo las columnas con valores faltantes\n",
    "missing_ordinal_df = pd.DataFrame({\n",
    "    'Missing Count': missing_ordinal,\n",
    "    'Missing Percent': missing_ordinal_percent\n",
    "}).query('`Missing Count` > 0').sort_values(by='Missing Count', ascending=False)\n",
    "\n",
    "print(\"\\nValores faltantes en variables ordinales:\")\n",
    "if not missing_ordinal_df.empty:\n",
    "    print(missing_ordinal_df)\n",
    "else:\n",
    "    print(\"No hay valores faltantes en variables ordinales.\")\n"
   ],
   "id": "fba4771f00235dc2",
   "outputs": [
    {
     "name": "stdout",
     "output_type": "stream",
     "text": [
      "Valores faltantes en variables numéricas:\n",
      "                         Missing Count  Missing Percent\n",
      "WorkLifeBalance                     24         0.816327\n",
      "EnvironmentSatisfaction             17         0.578231\n",
      "JobSatisfaction                     12         0.408163\n",
      "NumCompaniesWorked                  11         0.374150\n",
      "TotalWorkingYears                    4         0.136054\n",
      "\n",
      "Valores faltantes en variables categóricas nominales:\n",
      "No hay valores faltantes en variables categóricas nominales.\n",
      "\n",
      "Valores faltantes en variables ordinales:\n",
      "No hay valores faltantes en variables ordinales.\n"
     ]
    }
   ],
   "execution_count": 14
  },
  {
   "metadata": {},
   "cell_type": "markdown",
   "source": [
    "Tenemos valores faltantes solo en variables numéricas. Además, con porcentajes muy bajos (menos de 1% en cada una), por lo que el problema es leve. Se considerarán la media y la mediana para imputar los valores numéricos faltantes.\n",
    "\n",
    "Aunque en nuestro dataset no tenemos valores faltantes en atributos categóricos y ordinales, vamos a utilizar imputación mediante moda para estas variables (ya que no toman valores numéricos, no podemos usar mediana ni media). Esto nos da mayor flexibilidad y robustez por si nuestro dataset cambia en un futuro.\n"
   ],
   "id": "159ad36479983e36"
  },
  {
   "metadata": {},
   "cell_type": "markdown",
   "source": "## Escalado",
   "id": "4c6325da2120b036"
  },
  {
   "metadata": {},
   "cell_type": "markdown",
   "source": [
    "Variables numéricas como Age, MonthlyIncome, DistanceFromHome, etc., pueden tener escalas muy diferentes y para modelos como KNN es importante escalar estas variables para dar la misma importancia a todas las variables. Por si acaso, vamos a escalar también las variables categóricas y ordinales después del encoding. Se considerarán tres métodos de escalado (minmax, standard, robust).\n",
    "\n"
   ],
   "id": "37548a386faf68ee"
  },
  {
   "metadata": {},
   "cell_type": "markdown",
   "source": "## Estrategia",
   "id": "27ab71f3f7da2c84"
  },
  {
   "metadata": {},
   "cell_type": "markdown",
   "source": [
    "\n",
    "1. Imputación en variables numéricas:\n",
    "Probar dos estrategias:\n",
    "\n",
    "- Media\n",
    "- Mediana\n",
    "\n",
    "2. Escalado en variables numéricas (y en general en el conjunto transformado):\n",
    "Evaluar tres métodos:\n",
    "\n",
    "- StandardScaler\n",
    "- MinMaxScaler\n",
    "- RobustScaler\n",
    "\n",
    "3. Usar un pipeline que incluya el preprocesamiento (imputación y encoding) y el escalado, seguido de un clasificador KNN.\n",
    "\n",
    "4. Aplicar GridSearchCV para explorar las combinaciones de imputador y escalador utilizando una métrica como balanced accuracy."
   ],
   "id": "869134ee5237f708"
  },
  {
   "metadata": {
    "ExecuteTime": {
     "end_time": "2025-03-06T07:37:17.474039100Z",
     "start_time": "2025-03-06T07:37:17.287397200Z"
    }
   },
   "cell_type": "code",
   "source": [
    "# SEPARACIÓN ENTRE VARIABLES Y DIVISIÓN TRAIN/TEST\n",
    "X = df.drop(columns=['Attrition'])\n",
    "y = df['Attrition']\n",
    "\n",
    "\n",
    "# Encoding de la variable de decisión\n",
    "# TODO: duda aquí ??\n",
    "y = y.map({'No': 0, 'Yes': 1})\n",
    "\n",
    "X_train, X_test, y_train, y_test = train_test_split(\n",
    "    X, y, test_size=1/3, random_state=72, stratify=y\n",
    ")\n",
    "\n",
    "print(f\"Tamaño de Train: {X_train.shape}, Tamaño de Test: {X_test.shape}\")\n"
   ],
   "id": "a6135d025add7dc7",
   "outputs": [
    {
     "name": "stdout",
     "output_type": "stream",
     "text": [
      "Tamaño de Train: (1960, 26), Tamaño de Test: (980, 26)\n"
     ]
    }
   ],
   "execution_count": 15
  },
  {
   "metadata": {
    "ExecuteTime": {
     "end_time": "2025-03-06T07:37:21.646962400Z",
     "start_time": "2025-03-06T07:37:17.295859600Z"
    }
   },
   "cell_type": "code",
   "source": [
    "from sklearn.model_selection import KFold, StratifiedKFold\n",
    "from imblearn.over_sampling import SMOTE\n",
    "from imblearn.pipeline import Pipeline as ImbPipeline\n",
    "\n",
    "# Para variables numéricas: imputación con mediana y escalado\n",
    "numeric_transformer = Pipeline(steps=[\n",
    "    ('imputer', SimpleImputer(strategy='median')),\n",
    "    ('scaler', StandardScaler())\n",
    "])\n",
    "\n",
    "# Para variables categóricas nominales: One-Hot Encoding\n",
    "categorical_transformer = Pipeline(steps=[\n",
    "    ('imputer', SimpleImputer(strategy='most_frequent')),\n",
    "    ('encoder', OneHotEncoder(handle_unknown='ignore', drop='first'))\n",
    "])\n",
    "\n",
    "# Para variables ordinales: OrdinalEncoder con el orden definido\n",
    "ordinal_transformer = Pipeline(steps=[\n",
    "    ('imputer', SimpleImputer(strategy='most_frequent')),\n",
    "    ('encoder', OrdinalEncoder(categories=[[\"Non-Travel\", \"Travel_Rarely\", \"Travel_Frequently\"]])),\n",
    "    ('scaler', StandardScaler())\n",
    "])\n",
    "\n",
    "# COMBINACIÓN DE TRANSFORMACIONES (AÚN SIN ESCALADO)\n",
    "preprocessor = ColumnTransformer(transformers=[\n",
    "    ('num', numeric_transformer, numerical_cols),\n",
    "    ('cat', categorical_transformer, categorical_cols),\n",
    "    ('ord', ordinal_transformer, ordinal_cols)\n",
    "])\n",
    "\n",
    "# PIPELINE GLOBAL: PRIMERO TRANSFORMACIÓN, LUEGO ESCALADO\n",
    "pipeline = ImbPipeline(steps=[\n",
    "    ('preprocessing', preprocessor),  # Primero se hace imputación y encoding\n",
    "    ('smote', SMOTE()),\n",
    "    ('classifier', KNeighborsClassifier())\n",
    "])\n",
    "\n",
    "# Definir la grilla de parámetros para el GridSearchCV:\n",
    "param_grid = {\n",
    "    # Imputación: 'mean' o 'median' para variables numéricas\n",
    "    'preprocessing__num__imputer__strategy': ['mean', 'median'],\n",
    "    # Escalado: probar MinMaxScaler, StandardScaler y RobustScaler\n",
    "    'preprocessing__num__scaler': [MinMaxScaler(), StandardScaler(), RobustScaler()],\n",
    "}\n",
    "\n",
    "# Configurar GridSearchCV usando balanced_accuracy como métrica (dado el desbalanceo)\n",
    "inner = StratifiedKFold(n_splits=10, shuffle=True, random_state=72)\n",
    "grid_search = GridSearchCV(pipeline, param_grid, cv=inner, scoring='balanced_accuracy', n_jobs=-1, verbose=1)\n",
    "grid_search.fit(X_train, y_train)\n",
    "\n",
    "best_preprocessor = grid_search.best_estimator_ # mejor model del INNER LOOP\n",
    "\n",
    "# Extraer los inner scores de GridSearchCV\n",
    "inner_scores = pd.DataFrame(grid_search.cv_results_)\n",
    "\n",
    "# Seleccionar solo las columnas clave\n",
    "inner_scores = inner_scores[\n",
    "    ['param_preprocessing__num__imputer__strategy',\n",
    "     'param_preprocessing__num__scaler',\n",
    "     'mean_test_score', 'std_test_score', 'rank_test_score']\n",
    "]\n",
    "\n",
    "# Ordenar por la mejor precisión balanceada\n",
    "inner_scores = inner_scores.sort_values(by='mean_test_score', ascending=False)\n",
    "\n",
    "# Mostrar resultados\n",
    "print(\"Resultados de Validación Cruzada (INNER LOOP)\")\n",
    "display(inner_scores)\n",
    "\n",
    "print(\"Mejor combinación de parámetros:\")\n",
    "print(grid_search.best_params_)\n",
    "print(\"Mejor Balanced Accuracy (CV):\", grid_search.best_score_)\n",
    "\n"
   ],
   "id": "cdd5a3a613cfb664",
   "outputs": [
    {
     "name": "stdout",
     "output_type": "stream",
     "text": [
      "Fitting 10 folds for each of 6 candidates, totalling 60 fits\n",
      "Resultados de Validación Cruzada (INNER LOOP)\n"
     ]
    },
    {
     "data": {
      "text/plain": "  param_preprocessing__num__imputer__strategy  \\\n0                                        mean   \n4                                      median   \n1                                        mean   \n3                                      median   \n5                                      median   \n2                                        mean   \n\n  param_preprocessing__num__scaler  mean_test_score  std_test_score  \\\n0                   MinMaxScaler()         0.777759        0.041487   \n4                 StandardScaler()         0.771428        0.023084   \n1                 StandardScaler()         0.770510        0.025983   \n3                   MinMaxScaler()         0.767003        0.038864   \n5                   RobustScaler()         0.764211        0.031890   \n2                   RobustScaler()         0.760340        0.023773   \n\n   rank_test_score  \n0                1  \n4                2  \n1                3  \n3                4  \n5                5  \n2                6  ",
      "text/html": "<div>\n<style scoped>\n    .dataframe tbody tr th:only-of-type {\n        vertical-align: middle;\n    }\n\n    .dataframe tbody tr th {\n        vertical-align: top;\n    }\n\n    .dataframe thead th {\n        text-align: right;\n    }\n</style>\n<table border=\"1\" class=\"dataframe\">\n  <thead>\n    <tr style=\"text-align: right;\">\n      <th></th>\n      <th>param_preprocessing__num__imputer__strategy</th>\n      <th>param_preprocessing__num__scaler</th>\n      <th>mean_test_score</th>\n      <th>std_test_score</th>\n      <th>rank_test_score</th>\n    </tr>\n  </thead>\n  <tbody>\n    <tr>\n      <th>0</th>\n      <td>mean</td>\n      <td>MinMaxScaler()</td>\n      <td>0.777759</td>\n      <td>0.041487</td>\n      <td>1</td>\n    </tr>\n    <tr>\n      <th>4</th>\n      <td>median</td>\n      <td>StandardScaler()</td>\n      <td>0.771428</td>\n      <td>0.023084</td>\n      <td>2</td>\n    </tr>\n    <tr>\n      <th>1</th>\n      <td>mean</td>\n      <td>StandardScaler()</td>\n      <td>0.770510</td>\n      <td>0.025983</td>\n      <td>3</td>\n    </tr>\n    <tr>\n      <th>3</th>\n      <td>median</td>\n      <td>MinMaxScaler()</td>\n      <td>0.767003</td>\n      <td>0.038864</td>\n      <td>4</td>\n    </tr>\n    <tr>\n      <th>5</th>\n      <td>median</td>\n      <td>RobustScaler()</td>\n      <td>0.764211</td>\n      <td>0.031890</td>\n      <td>5</td>\n    </tr>\n    <tr>\n      <th>2</th>\n      <td>mean</td>\n      <td>RobustScaler()</td>\n      <td>0.760340</td>\n      <td>0.023773</td>\n      <td>6</td>\n    </tr>\n  </tbody>\n</table>\n</div>"
     },
     "metadata": {},
     "output_type": "display_data"
    },
    {
     "name": "stdout",
     "output_type": "stream",
     "text": [
      "Mejor combinación de parámetros:\n",
      "{'preprocessing__num__imputer__strategy': 'mean', 'preprocessing__num__scaler': MinMaxScaler()}\n",
      "Mejor Balanced Accuracy (CV): 0.7777593624085067\n"
     ]
    }
   ],
   "execution_count": 16
  },
  {
   "metadata": {},
   "cell_type": "markdown",
   "source": "## Estimación de rendimiento futuro (outer)",
   "id": "3f8fdbdd7991e01"
  },
  {
   "metadata": {
    "ExecuteTime": {
     "end_time": "2025-03-06T07:37:21.666468400Z",
     "start_time": "2025-03-06T07:37:21.642789500Z"
    }
   },
   "cell_type": "code",
   "source": [
    "# llamar a predict(X_test) en el pipeline ya incluye internamente el paso de transformación\n",
    "y_pred = best_preprocessor.predict(X_test)\n",
    "outer_score = balanced_accuracy_score(y_test, y_pred)\n",
    "print(\"Balanced Accuracy en Test (OUTER LOOP):\", outer_score)"
   ],
   "id": "e8e8f460d73e0625",
   "outputs": [
    {
     "name": "stdout",
     "output_type": "stream",
     "text": [
      "Balanced Accuracy en Test (OUTER LOOP): 0.7618728633465768\n"
     ]
    }
   ],
   "execution_count": 17
  },
  {
   "metadata": {},
   "cell_type": "markdown",
   "source": "Balanced_accuracy en CV  y Balanced Accuracy en Test son muy similares lo que indica que el modelo está generalizando bien.",
   "id": "776888a77f6be6fc"
  },
  {
   "metadata": {
    "ExecuteTime": {
     "end_time": "2025-03-06T07:37:21.777822900Z",
     "start_time": "2025-03-06T07:37:21.663893300Z"
    }
   },
   "cell_type": "code",
   "source": [
    "# Información de ayuda para entender cómo funciona el pipeline\n",
    "print(\"Pasos en el preprocesador:\")\n",
    "print(best_preprocessor.steps)"
   ],
   "id": "8287791368a206d9",
   "outputs": [
    {
     "name": "stdout",
     "output_type": "stream",
     "text": [
      "Pasos en el preprocesador:\n",
      "[('preprocessing', ColumnTransformer(transformers=[('num',\n",
      "                                 Pipeline(steps=[('imputer', SimpleImputer()),\n",
      "                                                 ('scaler', MinMaxScaler())]),\n",
      "                                 ['hrs', 'absences', 'JobInvolvement',\n",
      "                                  'PerformanceRating',\n",
      "                                  'EnvironmentSatisfaction', 'JobSatisfaction',\n",
      "                                  'WorkLifeBalance', 'Age', 'DistanceFromHome',\n",
      "                                  'Education', 'JobLevel', 'MonthlyIncome',\n",
      "                                  'NumCompaniesWorked', 'PercentSalaryHike',\n",
      "                                  'StockOptionLevel...\n",
      "                                                 ('encoder',\n",
      "                                                  OneHotEncoder(drop='first',\n",
      "                                                                handle_unknown='ignore'))]),\n",
      "                                 ['Department', 'EducationField', 'Gender',\n",
      "                                  'JobRole', 'MaritalStatus']),\n",
      "                                ('ord',\n",
      "                                 Pipeline(steps=[('imputer',\n",
      "                                                  SimpleImputer(strategy='most_frequent')),\n",
      "                                                 ('encoder',\n",
      "                                                  OrdinalEncoder(categories=[['Non-Travel',\n",
      "                                                                              'Travel_Rarely',\n",
      "                                                                              'Travel_Frequently']])),\n",
      "                                                 ('scaler', StandardScaler())]),\n",
      "                                 ['BusinessTravel'])])), ('smote', SMOTE()), ('classifier', KNeighborsClassifier())]\n"
     ]
    }
   ],
   "execution_count": 18
  },
  {
   "metadata": {},
   "cell_type": "markdown",
   "source": "Necesitamos X_train_transformed porque el GridSearchCV de KNN trabajará con los datos ya transformados:",
   "id": "a253b17012b9f804"
  },
  {
   "metadata": {
    "ExecuteTime": {
     "end_time": "2025-03-06T07:37:21.779896200Z",
     "start_time": "2025-03-06T07:37:21.681499300Z"
    }
   },
   "cell_type": "code",
   "source": [
    "# Transformar los datos de entrenamiento con el mejor preprocesamiento\n",
    "X_train_transformed = best_preprocessor.named_steps['preprocessing'].transform(X_train)\n",
    "# Transformar los datos de test con el mejor preprocesamiento\n",
    "X_test_transformed = best_preprocessor.named_steps['preprocessing'].transform(X_test)\n",
    "print(\"Forma de X_train antes de la transformación:\", X_train.shape)\n",
    "print(\"Forma de X_train después de la transformación:\", X_train_transformed.shape)\n",
    "\n",
    "\n",
    "# Para comprobar que ya no hay valores nulos\n",
    "feature_names = best_preprocessor.named_steps['preprocessing'].get_feature_names_out()\n",
    "#print(feature_names)\n",
    "X_train_transformed_df = pd.DataFrame(X_train_transformed, columns=feature_names)\n",
    "print(X_train_transformed_df['ord__BusinessTravel'])\n",
    "print(X_train_transformed_df.isnull().sum().sum())  # Debe ser 0 si la imputación funcionó"
   ],
   "id": "522b5bedd71f880d",
   "outputs": [
    {
     "name": "stdout",
     "output_type": "stream",
     "text": [
      "Forma de X_train antes de la transformación: (1960, 26)\n",
      "Forma de X_train después de la transformación: (1960, 39)\n",
      "0      -0.147219\n",
      "1       1.738729\n",
      "2      -0.147219\n",
      "3      -0.147219\n",
      "4      -0.147219\n",
      "          ...   \n",
      "1955   -2.033168\n",
      "1956   -2.033168\n",
      "1957    1.738729\n",
      "1958   -0.147219\n",
      "1959    1.738729\n",
      "Name: ord__BusinessTravel, Length: 1960, dtype: float64\n",
      "0\n"
     ]
    }
   ],
   "execution_count": 19
  },
  {
   "metadata": {},
   "cell_type": "markdown",
   "source": "Para verificar que el preprocesamiento se ha hecho correctamente podemos visualizar los datos originales y los datos transofmrados en dos histogramas",
   "id": "496688ae77cc833a"
  },
  {
   "metadata": {
    "ExecuteTime": {
     "end_time": "2025-03-06T07:37:21.983111100Z",
     "start_time": "2025-03-06T07:37:21.709792300Z"
    }
   },
   "cell_type": "code",
   "source": [
    "import matplotlib.pyplot as plt\n",
    "import seaborn as sns\n",
    "\n",
    "# Crear dos gráficos separados para visualizar la variable BusinessTravel antes y después de la transformación\n",
    "fig, axes = plt.subplots(1, 2, figsize=(12, 5))\n",
    "\n",
    "# Gráfico 1: Distribución de la variable original\n",
    "sns.histplot(X_train['BusinessTravel'], bins=10, color=\"red\", ax=axes[0])\n",
    "axes[0].set_xlabel(\"BusinessTravel (Original)\")\n",
    "axes[0].set_ylabel(\"Frecuencia\")\n",
    "axes[0].set_title(\"Distribución de BusinessTravel (Original)\")\n",
    "axes[0].grid(True)\n",
    "\n",
    "# Gráfico 2: Distribución de la variable transformada\n",
    "sns.histplot(X_train_transformed_df['ord__BusinessTravel'], bins=10, color=\"blue\", ax=axes[1])\n",
    "axes[1].set_xlabel(\"BusinessTravel (Transformado)\")\n",
    "axes[1].set_ylabel(\"Frecuencia\")\n",
    "axes[1].set_title(\"Distribución de BusinessTravel (Transformado)\")\n",
    "axes[1].grid(True)\n",
    "\n",
    "plt.tight_layout()\n",
    "plt.show()\n"
   ],
   "id": "78a663c92ff4b196",
   "outputs": [
    {
     "data": {
      "text/plain": "<Figure size 1200x500 with 2 Axes>",
      "image/png": "[encoded data removed]"
     },
     "metadata": {},
     "output_type": "display_data"
    }
   ],
   "execution_count": 20
  },
  {
   "metadata": {},
   "cell_type": "markdown",
   "source": "# Dummy Classifier",
   "id": "ab39db48ec3ab4ff"
  },
  {
   "metadata": {
    "ExecuteTime": {
     "end_time": "2025-03-06T07:37:21.985440Z",
     "start_time": "2025-03-06T07:37:21.964127100Z"
    }
   },
   "cell_type": "code",
   "source": [
    "from sklearn.dummy import DummyClassifier\n",
    "\n",
    "dummy_clf = DummyClassifier(strategy='most_frequent')\n",
    "dummy_clf.fit(X_train_transformed, y_train)\n",
    "y_pred_dummy = dummy_clf.predict(X_test_transformed)\n",
    "dummy_cr = classification_report(y_test, y_pred_dummy, zero_division=0)\n",
    "print(\"Classification report para el Dummy Classifier\\n:\", dummy_cr)\n",
    "print(\"Matriz de confusion del Dummy Classifier:\\n\", confusion_matrix(y_test, y_pred_dummy))"
   ],
   "id": "8b537d266390733b",
   "outputs": [
    {
     "name": "stdout",
     "output_type": "stream",
     "text": [
      "Classification report para el Dummy Classifier\n",
      ":               precision    recall  f1-score   support\n",
      "\n",
      "           0       0.84      1.00      0.91       822\n",
      "           1       0.00      0.00      0.00       158\n",
      "\n",
      "    accuracy                           0.84       980\n",
      "   macro avg       0.42      0.50      0.46       980\n",
      "weighted avg       0.70      0.84      0.77       980\n",
      "\n",
      "Matriz de confusion del Dummy Classifier:\n",
      " [[822   0]\n",
      " [158   0]]\n"
     ]
    }
   ],
   "execution_count": 21
  },
  {
   "metadata": {},
   "cell_type": "markdown",
   "source": [
    "# HPO con KNN"
   ],
   "id": "c2ecba48039ec958"
  },
  {
   "metadata": {},
   "cell_type": "markdown",
   "source": "## Entrenamiento con hiperparámetros por omisión",
   "id": "8079ee4569c72ca1"
  },
  {
   "metadata": {},
   "cell_type": "markdown",
   "source": [
    "El clasificador KNeighborsClassifier de scikit-learn tiene los siguientes parámetros por defecto:\n",
    "\n",
    "- n_neighbors = 5\n",
    "- weights = 'uniform': Todos los vecinos tienen el mismo peso (votación uniforme).\n",
    "- algorithm = 'auto': Se elige automáticamente el algoritmo adecuado (ball_tree, kd_tree o brute force) según los datos.\n",
    "- leaf_size = 30: Tamaño de hoja para la construcción de Ball Tree o KD Tree.\n",
    "- p = 2: Se utiliza la distancia de Minkowski con  p=2 (equivalente a la distancia Euclidiana).\n",
    "- metric = 'minkowski': Métrica de distancia utilizada para calcular las distancias entre puntos.\n",
    "- metric_params = None: No se especifican parámetros adicionales para la métrica.\n",
    "- n_jobs = None: No se usa paralelización (se ejecuta en un solo núcleo por defecto)."
   ],
   "id": "d729f61097112950"
  },
  {
   "metadata": {
    "ExecuteTime": {
     "end_time": "2025-03-06T07:37:22.211282Z",
     "start_time": "2025-03-06T07:37:21.979521500Z"
    }
   },
   "cell_type": "code",
   "source": [
    "import time\n",
    "\n",
    "knn_default = KNeighborsClassifier()  # Hiperparámetros por defecto\n",
    "\n",
    "start_time = time.time()\n",
    "knn_default.fit(X_train_transformed, y_train)\n",
    "default_time_fit = time.time() - start_time\n",
    "\n",
    "start_time = time.time()\n",
    "y_pred_default = knn_default.predict(X_test_transformed)\n",
    "default_time_predict = time.time() - start_time\n",
    "default_score = balanced_accuracy_score(y_test, y_pred_default)\n",
    "\n",
    "print(\"Modelo con hiperparámetros por omisión:\")\n",
    "print(f\"Balanced Accuracy: {default_score:.4f}\")\n",
    "print(f\"Tiempo de entrenamiento default: {default_time_fit:.8f} segundos\")\n",
    "print(f\"Tiempo de predicción default: {default_time_predict:.8f} segundos\")\n"
   ],
   "id": "8ec0178562ebc62b",
   "outputs": [
    {
     "name": "stdout",
     "output_type": "stream",
     "text": [
      "Modelo con hiperparámetros por omisión:\n",
      "Balanced Accuracy: 0.6003\n",
      "Tiempo de entrenamiento default: 0.00105977 segundos\n",
      "Tiempo de predicción default: 0.00553131 segundos\n"
     ]
    }
   ],
   "execution_count": 22
  },
  {
   "metadata": {},
   "cell_type": "markdown",
   "source": "## Evaluación de alternativas con ajustes de hiper-parámetros",
   "id": "5fa47598dd6b0ed4"
  },
  {
   "metadata": {
    "ExecuteTime": {
     "end_time": "2025-03-06T07:37:29.537492500Z",
     "start_time": "2025-03-06T07:37:21.996373200Z"
    }
   },
   "cell_type": "code",
   "source": [
    "inner_scores_out = []\n",
    "\n",
    "# Ahora entrenamos KNN con diferentes valores de n_neighbors\n",
    "param_grid_knn = {\n",
    "    'n_neighbors': [2, 3, 4, 5, 6, 7],  # Diferentes valores de vecinos\n",
    "    'weights': ['uniform', 'distance'],  # Cómo se ponderan los vecinos\n",
    "    'metric': ['euclidean', 'manhattan', 'minkowski'],  # Tipo de métrica\n",
    "    'p': [3]\n",
    "}\n",
    "\n",
    "inner = StratifiedKFold(n_splits=10, shuffle=True, random_state=72)\n",
    "\n",
    "\n",
    "grid_knn = GridSearchCV(\n",
    "    KNeighborsClassifier(), param_grid_knn,\n",
    "    cv=inner, scoring='balanced_accuracy', n_jobs=-1, verbose=3\n",
    ")\n",
    "\n",
    "start_time = time.time()\n",
    "grid_knn.fit(X_train_transformed, y_train)\n",
    "hpo_time = time.time() - start_time\n",
    "\n",
    "# Crear DataFrame con los resultados de GridSearchCV\n",
    "inner_scores_df = pd.DataFrame(grid_knn.cv_results_)[\n",
    "    ['param_n_neighbors', 'param_weights', 'param_metric', 'param_p', \n",
    "     'mean_test_score', 'std_test_score', 'rank_test_score']\n",
    "]\n",
    "\n",
    "# Añadir los resultados actuales a la lista\n",
    "inner_scores_out.append(inner_scores_df)\n",
    "\n"
   ],
   "id": "5f1a686de95a8730",
   "outputs": [
    {
     "name": "stdout",
     "output_type": "stream",
     "text": [
      "Fitting 10 folds for each of 36 candidates, totalling 360 fits\n"
     ]
    }
   ],
   "execution_count": 23
  },
  {
   "metadata": {
    "ExecuteTime": {
     "end_time": "2025-03-06T09:39:06.057646Z",
     "start_time": "2025-03-06T09:39:05.971173900Z"
    }
   },
   "cell_type": "code",
   "source": [
    "# Obtener el mejor modelo KNN\n",
    "best_knn = grid_knn.best_estimator_\n",
    "start_time = time.time()\n",
    "best_knn.fit(X_train_transformed, y_train)\n",
    "best_knn_time = time.time() - start_time\n",
    "\n",
    "print(\"\\nHPO KNN:\", grid_knn.best_params_)\n",
    "print(f\"Tiempo de entrenamiento (incluyendo HPO): {hpo_time+best_knn_time:.2f} segundos\")\n",
    "print(f\"Tiempo de entrenamiento del modelo KNN default: {default_time_fit:.8f} segundos\")\n",
    "print(f\"Mejora en el tiempo de entrenamiento del modelo default con respecto al modelo que utiliza los HP optimizados = {(hpo_time+best_knn_time)/default_time_fit}\")"
   ],
   "id": "3f735458d240aacd",
   "outputs": [
    {
     "name": "stdout",
     "output_type": "stream",
     "text": [
      "\n",
      "HPO KNN: {'metric': 'manhattan', 'n_neighbors': 2, 'p': 3, 'weights': 'distance'}\n",
      "Tiempo de entrenamiento (incluyendo HPO): 7.53 segundos\n",
      "Tiempo de entrenamiento del modelo KNN default: 0.00105977 segundos\n",
      "Mejora en el tiempo de entrenamiento del modelo default con respecto al modelo que utiliza los HP optimizados = 7109.869516310461\n"
     ]
    }
   ],
   "execution_count": 129
  },
  {
   "metadata": {},
   "cell_type": "markdown",
   "source": [
    "Observamos que encontrar los HP óptimos y entrenar el modelo óptimo tarda alrededor de 7000 veces más  que entrenar el modelo utilizando los HP por defecto."
   ],
   "id": "a4dfb43c6cb24f74"
  },
  {
   "metadata": {},
   "cell_type": "markdown",
   "source": "## Estimación de rendimiento futuro (outer)",
   "id": "4f4614b3bc279294"
  },
  {
   "metadata": {
    "ExecuteTime": {
     "end_time": "2025-03-06T07:37:29.642755200Z",
     "start_time": "2025-03-06T07:37:29.546063900Z"
    }
   },
   "cell_type": "code",
   "source": [
    "from sklearn.metrics import f1_score\n",
    "from sklearn import metrics\n",
    "\n",
    "start_time = time.time()\n",
    "y_pred = best_knn.predict(X_test_transformed)\n",
    "pred_time = time.time() - start_time\n",
    "outer_score = metrics.balanced_accuracy_score(y_test, y_pred)\n",
    "knn_cr = classification_report(y_test, y_pred)\n",
    "\n",
    "print(f\"Tiempo que tarda en predecir los resultados el modelo con HP optimizados: {pred_time:.8f} segundos\")\n",
    "\n",
    "print(\"\\n**Evaluación Final en Test (Outer Loop)**\")\n",
    "print(f\"Balanced Accuracy en Test: {balanced_accuracy_score(y_test, y_pred):.4f}\")\n",
    "print(f\"Accuracy en Test: {accuracy_score(y_test, y_pred):.4f}\")\n",
    "print(f\"F1-Score en Test: {f1_score(y_test, y_pred):.4f}\")\n",
    "print(f\"Classification report de KNN:\\n {knn_cr}\")\n",
    "\n",
    "# Mostrar la matriz de confusión\n",
    "print(\"\\nMatriz de Confusión:\")\n",
    "print(confusion_matrix(y_test, y_pred))"
   ],
   "id": "d132b2ec956310c8",
   "outputs": [
    {
     "name": "stdout",
     "output_type": "stream",
     "text": [
      "Tiempo que tarda en predecir los resultados el modelo con HP optimizados: 0.03172851 segundos\n",
      "\n",
      "**Evaluación Final en Test (Outer Loop)**\n",
      "Balanced Accuracy en Test: 0.8552\n",
      "Accuracy en Test: 0.9286\n",
      "F1-Score en Test: 0.7712\n",
      "Classification report de KNN:               precision    recall  f1-score   support\n",
      "\n",
      "           0       0.95      0.96      0.96       822\n",
      "           1       0.80      0.75      0.77       158\n",
      "\n",
      "    accuracy                           0.93       980\n",
      "   macro avg       0.87      0.86      0.86       980\n",
      "weighted avg       0.93      0.93      0.93       980\n",
      "\n",
      "\n",
      "Matriz de Confusión:\n",
      "[[792  30]\n",
      " [ 40 118]]\n"
     ]
    }
   ],
   "execution_count": 25
  },
  {
   "metadata": {},
   "cell_type": "markdown",
   "source": "## Matriz de confusión",
   "id": "e3762c01680e0191"
  },
  {
   "metadata": {},
   "cell_type": "markdown",
   "source": "Vamos a visualizar la matriz de confusion en un gráfico de calor.",
   "id": "d240f0c1739bb09a"
  },
  {
   "metadata": {
    "ExecuteTime": {
     "end_time": "2025-03-06T07:37:29.733363700Z",
     "start_time": "2025-03-06T07:37:29.603226400Z"
    }
   },
   "cell_type": "code",
   "source": [
    "import seaborn as sns\n",
    "import matplotlib.pyplot as plt\n",
    "from sklearn.metrics import confusion_matrix\n",
    "\n",
    "# Calcular la matriz de confusión\n",
    "cm = confusion_matrix(y_test, y_pred)\n",
    "\n",
    "plt.figure(figsize=(6,5))\n",
    "sns.heatmap(cm, annot=True, fmt=\"d\", cmap=\"Blues\", xticklabels=['No', 'Yes'], yticklabels=['No', 'Yes'])\n",
    "\n",
    "plt.xlabel(\"Predicción\")\n",
    "plt.ylabel(\"Clase Real\")\n",
    "plt.title(\"Matriz de Confusión KNN\")\n",
    "plt.show()\n"
   ],
   "id": "1a2cd88bd5c584f3",
   "outputs": [
    {
     "data": {
      "text/plain": "<Figure size 600x500 with 2 Axes>",
      "image/png": "[encoded data removed]"
     },
     "metadata": {},
     "output_type": "display_data"
    }
   ],
   "execution_count": 26
  },
  {
   "metadata": {},
   "cell_type": "markdown",
   "source": "## Hiperparámetros optimizados",
   "id": "40c51f81bc6992eb"
  },
  {
   "metadata": {},
   "cell_type": "markdown",
   "source": "Representamos mediante una tabla los resultados obtenidos en el inner loop.",
   "id": "c3b0f8be0d13a8f"
  },
  {
   "metadata": {
    "ExecuteTime": {
     "end_time": "2025-03-06T07:37:29.757806600Z",
     "start_time": "2025-03-06T07:37:29.733363700Z"
    }
   },
   "cell_type": "code",
   "source": [
    "\n",
    "inner_scores_out_df = pd.concat(inner_scores_out, ignore_index=True)\n",
    "inner_scores_out_df = inner_scores_out_df.sort_values(by='mean_test_score', ascending=False)\n",
    "\n",
    "print(\"\\nResultados Acumulados de Validación Cruzada\")\n",
    "display(inner_scores_out_df)"
   ],
   "id": "4897a29bf8bf81c6",
   "outputs": [
    {
     "name": "stdout",
     "output_type": "stream",
     "text": [
      "\n",
      "Resultados Acumulados de Validación Cruzada\n"
     ]
    },
    {
     "data": {
      "text/plain": "    param_n_neighbors param_weights param_metric  param_p  mean_test_score  \\\n13                  2      distance    manhattan        3         0.854799   \n1                   2      distance    euclidean        3         0.842952   \n15                  3      distance    manhattan        3         0.842015   \n25                  2      distance    minkowski        3         0.840583   \n17                  4      distance    manhattan        3         0.839195   \n19                  5      distance    manhattan        3         0.838780   \n23                  7      distance    manhattan        3         0.837986   \n3                   3      distance    euclidean        3         0.836128   \n21                  6      distance    manhattan        3         0.836116   \n5                   4      distance    euclidean        3         0.826152   \n7                   5      distance    euclidean        3         0.816948   \n27                  3      distance    minkowski        3         0.812878   \n9                   6      distance    euclidean        3         0.808591   \n29                  4      distance    minkowski        3         0.805077   \n11                  7      distance    euclidean        3         0.796450   \n31                  5      distance    minkowski        3         0.788524   \n33                  6      distance    minkowski        3         0.778348   \n35                  7      distance    minkowski        3         0.759513   \n14                  3       uniform    manhattan        3         0.675272   \n2                   3       uniform    euclidean        3         0.652938   \n12                  2       uniform    manhattan        3         0.637016   \n0                   2       uniform    euclidean        3         0.632841   \n26                  3       uniform    minkowski        3         0.629624   \n18                  5       uniform    manhattan        3         0.618874   \n24                  2       uniform    minkowski        3         0.614545   \n22                  7       uniform    manhattan        3         0.612072   \n10                  7       uniform    euclidean        3         0.609313   \n30                  5       uniform    minkowski        3         0.608467   \n6                   5       uniform    euclidean        3         0.601248   \n34                  7       uniform    minkowski        3         0.599546   \n20                  6       uniform    manhattan        3         0.595802   \n8                   6       uniform    euclidean        3         0.585753   \n16                  4       uniform    manhattan        3         0.582020   \n28                  4       uniform    minkowski        3         0.580149   \n4                   4       uniform    euclidean        3         0.579538   \n32                  6       uniform    minkowski        3         0.569273   \n\n    std_test_score  rank_test_score  \n13        0.033941                1  \n1         0.041260                2  \n15        0.032512                3  \n25        0.038330                4  \n17        0.033356                5  \n19        0.039202                6  \n23        0.043503                7  \n3         0.030960                8  \n21        0.040839                9  \n5         0.028802               10  \n7         0.036543               11  \n27        0.036226               12  \n9         0.034524               13  \n29        0.033464               14  \n11        0.038345               15  \n31        0.032289               16  \n33        0.037169               17  \n35        0.038633               18  \n14        0.034224               19  \n2         0.041537               20  \n12        0.037957               21  \n0         0.033634               22  \n26        0.039492               23  \n18        0.037496               24  \n24        0.026672               25  \n22        0.034778               26  \n10        0.026805               27  \n30        0.032934               28  \n6         0.035753               29  \n34        0.033682               30  \n20        0.039337               31  \n8         0.029124               32  \n16        0.045529               33  \n28        0.032592               34  \n4         0.039899               35  \n32        0.027476               36  ",
      "text/html": "<div>\n<style scoped>\n    .dataframe tbody tr th:only-of-type {\n        vertical-align: middle;\n    }\n\n    .dataframe tbody tr th {\n        vertical-align: top;\n    }\n\n    .dataframe thead th {\n        text-align: right;\n    }\n</style>\n<table border=\"1\" class=\"dataframe\">\n  <thead>\n    <tr style=\"text-align: right;\">\n      <th></th>\n      <th>param_n_neighbors</th>\n      <th>param_weights</th>\n      <th>param_metric</th>\n      <th>param_p</th>\n      <th>mean_test_score</th>\n      <th>std_test_score</th>\n      <th>rank_test_score</th>\n    </tr>\n  </thead>\n  <tbody>\n    <tr>\n      <th>13</th>\n      <td>2</td>\n      <td>distance</td>\n      <td>manhattan</td>\n      <td>3</td>\n      <td>0.854799</td>\n      <td>0.033941</td>\n      <td>1</td>\n    </tr>\n    <tr>\n      <th>1</th>\n      <td>2</td>\n      <td>distance</td>\n      <td>euclidean</td>\n      <td>3</td>\n      <td>0.842952</td>\n      <td>0.041260</td>\n      <td>2</td>\n    </tr>\n    <tr>\n      <th>15</th>\n      <td>3</td>\n      <td>distance</td>\n      <td>manhattan</td>\n      <td>3</td>\n      <td>0.842015</td>\n      <td>0.032512</td>\n      <td>3</td>\n    </tr>\n    <tr>\n      <th>25</th>\n      <td>2</td>\n      <td>distance</td>\n      <td>minkowski</td>\n      <td>3</td>\n      <td>0.840583</td>\n      <td>0.038330</td>\n      <td>4</td>\n    </tr>\n    <tr>\n      <th>17</th>\n      <td>4</td>\n      <td>distance</td>\n      <td>manhattan</td>\n      <td>3</td>\n      <td>0.839195</td>\n      <td>0.033356</td>\n      <td>5</td>\n    </tr>\n    <tr>\n      <th>19</th>\n      <td>5</td>\n      <td>distance</td>\n      <td>manhattan</td>\n      <td>3</td>\n      <td>0.838780</td>\n      <td>0.039202</td>\n      <td>6</td>\n    </tr>\n    <tr>\n      <th>23</th>\n      <td>7</td>\n      <td>distance</td>\n      <td>manhattan</td>\n      <td>3</td>\n      <td>0.837986</td>\n      <td>0.043503</td>\n      <td>7</td>\n    </tr>\n    <tr>\n      <th>3</th>\n      <td>3</td>\n      <td>distance</td>\n      <td>euclidean</td>\n      <td>3</td>\n      <td>0.836128</td>\n      <td>0.030960</td>\n      <td>8</td>\n    </tr>\n    <tr>\n      <th>21</th>\n      <td>6</td>\n      <td>distance</td>\n      <td>manhattan</td>\n      <td>3</td>\n      <td>0.836116</td>\n      <td>0.040839</td>\n      <td>9</td>\n    </tr>\n    <tr>\n      <th>5</th>\n      <td>4</td>\n      <td>distance</td>\n      <td>euclidean</td>\n      <td>3</td>\n      <td>0.826152</td>\n      <td>0.028802</td>\n      <td>10</td>\n    </tr>\n    <tr>\n      <th>7</th>\n      <td>5</td>\n      <td>distance</td>\n      <td>euclidean</td>\n      <td>3</td>\n      <td>0.816948</td>\n      <td>0.036543</td>\n      <td>11</td>\n    </tr>\n    <tr>\n      <th>27</th>\n      <td>3</td>\n      <td>distance</td>\n      <td>minkowski</td>\n      <td>3</td>\n      <td>0.812878</td>\n      <td>0.036226</td>\n      <td>12</td>\n    </tr>\n    <tr>\n      <th>9</th>\n      <td>6</td>\n      <td>distance</td>\n      <td>euclidean</td>\n      <td>3</td>\n      <td>0.808591</td>\n      <td>0.034524</td>\n      <td>13</td>\n    </tr>\n    <tr>\n      <th>29</th>\n      <td>4</td>\n      <td>distance</td>\n      <td>minkowski</td>\n      <td>3</td>\n      <td>0.805077</td>\n      <td>0.033464</td>\n      <td>14</td>\n    </tr>\n    <tr>\n      <th>11</th>\n      <td>7</td>\n      <td>distance</td>\n      <td>euclidean</td>\n      <td>3</td>\n      <td>0.796450</td>\n      <td>0.038345</td>\n      <td>15</td>\n    </tr>\n    <tr>\n      <th>31</th>\n      <td>5</td>\n      <td>distance</td>\n      <td>minkowski</td>\n      <td>3</td>\n      <td>0.788524</td>\n      <td>0.032289</td>\n      <td>16</td>\n    </tr>\n    <tr>\n      <th>33</th>\n      <td>6</td>\n      <td>distance</td>\n      <td>minkowski</td>\n      <td>3</td>\n      <td>0.778348</td>\n      <td>0.037169</td>\n      <td>17</td>\n    </tr>\n    <tr>\n      <th>35</th>\n      <td>7</td>\n      <td>distance</td>\n      <td>minkowski</td>\n      <td>3</td>\n      <td>0.759513</td>\n      <td>0.038633</td>\n      <td>18</td>\n    </tr>\n    <tr>\n      <th>14</th>\n      <td>3</td>\n      <td>uniform</td>\n      <td>manhattan</td>\n      <td>3</td>\n      <td>0.675272</td>\n      <td>0.034224</td>\n      <td>19</td>\n    </tr>\n    <tr>\n      <th>2</th>\n      <td>3</td>\n      <td>uniform</td>\n      <td>euclidean</td>\n      <td>3</td>\n      <td>0.652938</td>\n      <td>0.041537</td>\n      <td>20</td>\n    </tr>\n    <tr>\n      <th>12</th>\n      <td>2</td>\n      <td>uniform</td>\n      <td>manhattan</td>\n      <td>3</td>\n      <td>0.637016</td>\n      <td>0.037957</td>\n      <td>21</td>\n    </tr>\n    <tr>\n      <th>0</th>\n      <td>2</td>\n      <td>uniform</td>\n      <td>euclidean</td>\n      <td>3</td>\n      <td>0.632841</td>\n      <td>0.033634</td>\n      <td>22</td>\n    </tr>\n    <tr>\n      <th>26</th>\n      <td>3</td>\n      <td>uniform</td>\n      <td>minkowski</td>\n      <td>3</td>\n      <td>0.629624</td>\n      <td>0.039492</td>\n      <td>23</td>\n    </tr>\n    <tr>\n      <th>18</th>\n      <td>5</td>\n      <td>uniform</td>\n      <td>manhattan</td>\n      <td>3</td>\n      <td>0.618874</td>\n      <td>0.037496</td>\n      <td>24</td>\n    </tr>\n    <tr>\n      <th>24</th>\n      <td>2</td>\n      <td>uniform</td>\n      <td>minkowski</td>\n      <td>3</td>\n      <td>0.614545</td>\n      <td>0.026672</td>\n      <td>25</td>\n    </tr>\n    <tr>\n      <th>22</th>\n      <td>7</td>\n      <td>uniform</td>\n      <td>manhattan</td>\n      <td>3</td>\n      <td>0.612072</td>\n      <td>0.034778</td>\n      <td>26</td>\n    </tr>\n    <tr>\n      <th>10</th>\n      <td>7</td>\n      <td>uniform</td>\n      <td>euclidean</td>\n      <td>3</td>\n      <td>0.609313</td>\n      <td>0.026805</td>\n      <td>27</td>\n    </tr>\n    <tr>\n      <th>30</th>\n      <td>5</td>\n      <td>uniform</td>\n      <td>minkowski</td>\n      <td>3</td>\n      <td>0.608467</td>\n      <td>0.032934</td>\n      <td>28</td>\n    </tr>\n    <tr>\n      <th>6</th>\n      <td>5</td>\n      <td>uniform</td>\n      <td>euclidean</td>\n      <td>3</td>\n      <td>0.601248</td>\n      <td>0.035753</td>\n      <td>29</td>\n    </tr>\n    <tr>\n      <th>34</th>\n      <td>7</td>\n      <td>uniform</td>\n      <td>minkowski</td>\n      <td>3</td>\n      <td>0.599546</td>\n      <td>0.033682</td>\n      <td>30</td>\n    </tr>\n    <tr>\n      <th>20</th>\n      <td>6</td>\n      <td>uniform</td>\n      <td>manhattan</td>\n      <td>3</td>\n      <td>0.595802</td>\n      <td>0.039337</td>\n      <td>31</td>\n    </tr>\n    <tr>\n      <th>8</th>\n      <td>6</td>\n      <td>uniform</td>\n      <td>euclidean</td>\n      <td>3</td>\n      <td>0.585753</td>\n      <td>0.029124</td>\n      <td>32</td>\n    </tr>\n    <tr>\n      <th>16</th>\n      <td>4</td>\n      <td>uniform</td>\n      <td>manhattan</td>\n      <td>3</td>\n      <td>0.582020</td>\n      <td>0.045529</td>\n      <td>33</td>\n    </tr>\n    <tr>\n      <th>28</th>\n      <td>4</td>\n      <td>uniform</td>\n      <td>minkowski</td>\n      <td>3</td>\n      <td>0.580149</td>\n      <td>0.032592</td>\n      <td>34</td>\n    </tr>\n    <tr>\n      <th>4</th>\n      <td>4</td>\n      <td>uniform</td>\n      <td>euclidean</td>\n      <td>3</td>\n      <td>0.579538</td>\n      <td>0.039899</td>\n      <td>35</td>\n    </tr>\n    <tr>\n      <th>32</th>\n      <td>6</td>\n      <td>uniform</td>\n      <td>minkowski</td>\n      <td>3</td>\n      <td>0.569273</td>\n      <td>0.027476</td>\n      <td>36</td>\n    </tr>\n  </tbody>\n</table>\n</div>"
     },
     "metadata": {},
     "output_type": "display_data"
    }
   ],
   "execution_count": 27
  },
  {
   "metadata": {},
   "cell_type": "markdown",
   "source": [
    "Las filas de la tabla representan configuraciones de hiperpárametros ordenadas en orden descendente de balanced accuracy, con la mejor opción al principio. \n",
    "\n",
    "Aumentar el número de splits del KFold a 10 una mejor mean_test_score (debido a que se entrena con más datos en cada iteración), pero también incrementa la variabilidad (debido a que cada conjunto de prueba es más pequeño). \n"
   ],
   "id": "6c73ae4f9388447"
  },
  {
   "metadata": {},
   "cell_type": "markdown",
   "source": "## Gráfico de error",
   "id": "6c825039228c0d8"
  },
  {
   "metadata": {
    "ExecuteTime": {
     "end_time": "2025-03-06T07:37:29.988192900Z",
     "start_time": "2025-03-06T07:37:29.747046100Z"
    }
   },
   "cell_type": "code",
   "source": [
    "\n",
    "inner_scores_out_df = pd.concat(inner_scores_out, ignore_index=True)\n",
    "\n",
    "grouped_scores = inner_scores_out_df.groupby('param_n_neighbors').agg(\n",
    "    mean_balanced_accuracy=('mean_test_score', 'mean'),\n",
    "    std_balanced_accuracy=('std_test_score', 'mean')\n",
    ").reset_index()\n",
    "\n",
    "plt.figure(figsize=(8,6))\n",
    "\n",
    "plt.bar(grouped_scores['param_n_neighbors'], \n",
    "        grouped_scores['mean_balanced_accuracy'], \n",
    "        yerr=grouped_scores['std_balanced_accuracy'], \n",
    "        capsize=5, color='royalblue', alpha=0.7, label='Balanced Accuracy')\n",
    "\n",
    "plt.xlabel(\"Número de Vecinos (n_neighbors)\")\n",
    "plt.ylabel(\"Balanced Accuracy (Media de CV)\")\n",
    "plt.title(f\"Efecto del Número de Vecinos en Balanced Accuracy (CV={inner.get_n_splits()})\")\n",
    "plt.xticks(grouped_scores['param_n_neighbors'])\n",
    "plt.grid(axis='y', linestyle='--', alpha=0.7)\n",
    "plt.legend()\n",
    "\n",
    "plt.show()\n"
   ],
   "id": "fbba9ef4356e36ba",
   "outputs": [
    {
     "data": {
      "text/plain": "<Figure size 800x600 with 1 Axes>",
      "image/png": "[encoded data removed]"
     },
     "metadata": {},
     "output_type": "display_data"
    }
   ],
   "execution_count": 28
  },
  {
   "metadata": {},
   "cell_type": "markdown",
   "source": "## Mapa de calor (Heatmap)",
   "id": "670327a22f57a305"
  },
  {
   "metadata": {
    "ExecuteTime": {
     "end_time": "2025-03-06T07:37:30.282018800Z",
     "start_time": "2025-03-06T07:37:29.944112500Z"
    }
   },
   "cell_type": "code",
   "source": [
    "import seaborn as sns\n",
    "import matplotlib.pyplot as plt\n",
    "\n",
    "# Convertir la lista de resultados acumulados en un DataFrame\n",
    "inner_scores_out_df = pd.concat(inner_scores_out, ignore_index=True)\n",
    "\n",
    "# Crear una tabla pivote para el heatmap (n_neighbors vs metric) mostrando mean_test_score\n",
    "heatmap_data = inner_scores_out_df.pivot_table(\n",
    "    index='param_n_neighbors', columns='param_metric', values='mean_test_score', aggfunc='mean'\n",
    ")\n",
    "\n",
    "plt.figure(figsize=(8,6))\n",
    "sns.heatmap(heatmap_data, annot=True, fmt=\".3f\", cmap=\"coolwarm\", linewidths=0.5)\n",
    "\n",
    "plt.xlabel(\"Métrica de Distancia\")\n",
    "plt.ylabel(\"Número de Vecinos (n_neighbors)\")\n",
    "plt.title(f\"Balanced Accuracy según Métrica y n_neighbors (CV={inner.get_n_splits()})\")\n",
    "\n",
    "plt.show()\n"
   ],
   "id": "898681c1550f44e6",
   "outputs": [
    {
     "data": {
      "text/plain": "<Figure size 800x600 with 2 Axes>",
      "image/png": "[encoded data removed]"
     },
     "metadata": {},
     "output_type": "display_data"
    }
   ],
   "execution_count": 29
  },
  {
   "cell_type": "markdown",
   "source": [
    "# HPO con Árbol de decisión"
   ],
   "metadata": {
    "collapsed": false
   },
   "id": "443ef603c2fe42d8"
  },
  {
   "cell_type": "markdown",
   "source": [
    "## Entrenamiento con hiperparámetros por omisión"
   ],
   "metadata": {
    "collapsed": false
   },
   "id": "a0f78d210fc51eb5"
  },
  {
   "cell_type": "markdown",
   "source": [
    "El clasificador DecisionTreeClassifier de scikit-learn tiene los siguientes parámetros por defecto:\n",
    "\n",
    "- criterion='gini': función usada para evaluar la calidad de cada split\n",
    "- splitter='best': estrategia para elegir el split en cada nodo\n",
    "- max_depth=None: por defecto el arbol se expande hasta que las hojas contengan solo instancias de una clase o min_sample_split insatancias\n",
    "- min_samples_split=2: número mínimo de instancias en un nodo para continuar haciendo separaciones\n",
    "- min_samples_leaf=1: número mínimo de instancias permitido en las hojas. Si un split generaría una hoja con menos instancias no se considera realizarlo\n",
    "- min_weight_fraction_leaf=0.0: porcentaje de las instancias totales que tiene que contener como mínimo cada hoja. Por defecto no se establece restricción\n",
    "- max_features=None: establece cuantas columnas (variables) se tienen en cuenta para buscar el mejor split. Por defecto se consideran todas las columnas del dataset\n",
    "- random_state=None: semilla de aleatoriedad para elegir el split en caso de empate en el criterio de evaluación\n",
    "- max_leaf_nodes=None: número máximo de hojas en el árbol final. Por defecto no se establece restricción\n",
    "- min_impurity_decrease=0.0: reducción de impuridad mínima necesaria para realizar un split en un nodo. Por defecto no se establece restricción\n",
    "- class_weight=None: pesos asociados a cada clase para problemas desbalanceados. Por defecto se usan pesos de 1 para todas las clases\n",
    "- ccp_alpha=0.0: valor que controla la complejidad máxima en la poda del árbol de decisión mediante Minimal Cost-Complexity Pruning\n",
    "- monotonic_cst=None: no se aplican restricciones de monotonicidad por defecto"
   ],
   "metadata": {
    "collapsed": false
   },
   "id": "fb430f992484b8d0"
  },
  {
   "cell_type": "code",
   "source": [
    "import time\n",
    "\n",
    "decision_tree_default = DecisionTreeClassifier(random_state=72)  # Hiperparámetros por defecto y seed 72 para romper empates de split siempre de la misma manera\n",
    "\n",
    "start_time = time.time()\n",
    "decision_tree_default.fit(X_train_transformed, y_train)\n",
    "default_time_fit_tree = time.time() - start_time\n",
    "\n",
    "start_time = time.time()\n",
    "y_pred_default_tree = decision_tree_default.predict(X_test_transformed)\n",
    "default_time_predict_tree = time.time() - start_time\n",
    "default_score_tree = balanced_accuracy_score(y_test, y_pred_default_tree)\n",
    "\n",
    "print(\"Modelo con hiperparámetros por omisión:\")\n",
    "print(f\"Balanced Accuracy: {default_score_tree:.4f}\")\n",
    "print(f\"Tiempo de entrenamiento default: {default_time_fit_tree:.8f} segundos\")\n",
    "print(f\"Tiempo de predicción default: {default_time_predict_tree:.8f} segundos\")"
   ],
   "metadata": {
    "collapsed": false,
    "ExecuteTime": {
     "end_time": "2025-03-06T07:37:30.489586Z",
     "start_time": "2025-03-06T07:37:30.180326300Z"
    }
   },
   "id": "1f07ad77c73a5829",
   "outputs": [
    {
     "name": "stdout",
     "output_type": "stream",
     "text": [
      "Modelo con hiperparámetros por omisión:\n",
      "Balanced Accuracy: 0.8277\n",
      "Tiempo de entrenamiento default: 0.03096867 segundos\n",
      "Tiempo de predicción default: 0.00105166 segundos\n"
     ]
    }
   ],
   "execution_count": 30
  },
  {
   "cell_type": "code",
   "outputs": [],
   "source": [
    "import matplotlib.pyplot as plt\n",
    "from sklearn import tree\n",
    "fig = plt.figure(figsize=(25,20))\n",
    "_ = tree.plot_tree(decision_tree_default,\n",
    "                   feature_names = feature_names,\n",
    "                   filled=True)\n",
    "# Descomentar para guardar como imagen\n",
    "# plt.savefig(\"default_tree_plot.png\", dpi=700, bbox_inches='tight')\n",
    "# plt.close(fig)"
   ],
   "metadata": {
    "collapsed": false,
    "ExecuteTime": {
     "end_time": "2025-03-06T09:50:30.561242Z",
     "start_time": "2025-03-06T09:50:19.595237500Z"
    }
   },
   "id": "d668c14ecd02f98c",
   "execution_count": 144
  },
  {
   "cell_type": "markdown",
   "source": [
    "## Evaluación de alternativas con ajustes de hiper-parámetros"
   ],
   "metadata": {
    "collapsed": false
   },
   "id": "b81965cee4257957"
  },
  {
   "cell_type": "code",
   "source": [
    "inner_scores_out_tree = []\n",
    "\n",
    "# Ahora entrenamos el árbol con diferentes valores para los hiperparámetros principales\n",
    "param_grid_decision_tree = {'max_depth': list(range(10,22,2)), # Diferentes valores de profundidad máxima\n",
    "              'min_samples_split': list(range(2,12,2)), # Diferentes valores de insatncias mínimas para separar un nodo\n",
    "              'min_impurity_decrease': [0.0, 0.0001, 0.001, 0.01, 0.1],\n",
    "              'criterion': ['gini', 'entropy', 'log_loss'], # Criterios de evaluación de los split\n",
    "              'random_state': [72], # Fijamos la misma semilla para todas las combinaciones de HP\n",
    "              'class_weight': ['balanced', None] # Pesos asignados a cada clase, balance usa y para balancear los pesos\n",
    "                            } \n",
    "\n",
    "inner_tree = StratifiedKFold(n_splits=10, shuffle=True, random_state=72)\n",
    "\n",
    "\n",
    "grid_decision_tree = GridSearchCV(\n",
    "    DecisionTreeClassifier(), param_grid_decision_tree,\n",
    "    cv=inner_tree, scoring='balanced_accuracy', n_jobs=-1, verbose=3\n",
    ")\n",
    "\n",
    "start_time = time.time()\n",
    "grid_decision_tree.fit(X_train_transformed, y_train)\n",
    "hpo_time_tree = time.time() - start_time\n",
    "print(f\"Hiperparámetros óptimos encontrados en {hpo_time_tree:2f}\")\n",
    "\n",
    "# Crear DataFrame con los resultados de GridSearchCV\n",
    "inner_scores_df_tree = pd.DataFrame(grid_decision_tree.cv_results_)[\n",
    "    ['param_max_depth', 'param_min_samples_split', 'param_criterion', 'param_class_weight', 'param_min_impurity_decrease', \n",
    "     'mean_test_score', 'std_test_score', 'rank_test_score']\n",
    "]\n",
    "\n",
    "# Añadir los resultados actuales a la lista\n",
    "inner_scores_out_tree.append(inner_scores_df_tree)\n"
   ],
   "metadata": {
    "collapsed": false,
    "ExecuteTime": {
     "end_time": "2025-03-06T09:43:41.029593500Z",
     "start_time": "2025-03-06T09:43:05.329902900Z"
    }
   },
   "id": "f36fc1717a9290da",
   "outputs": [
    {
     "name": "stdout",
     "output_type": "stream",
     "text": [
      "Fitting 10 folds for each of 900 candidates, totalling 9000 fits\n",
      "Hiperparámetros óptimos encontrados en 35.690317\n"
     ]
    }
   ],
   "execution_count": 132
  },
  {
   "cell_type": "code",
   "source": [
    "# Obtener el mejor modelo de árbol de decisión\n",
    "best_decision_tree = grid_decision_tree.best_estimator_\n",
    "start_time = time.time()\n",
    "best_decision_tree.fit(X_train_transformed, y_train)\n",
    "best_decision_tree_time = time.time() - start_time\n",
    "\n",
    "print(\"\\nHPO Decision Tree:\", grid_decision_tree.best_params_)\n",
    "print(f\"Tiempo de entrenamiento (incluyendo HPO): {hpo_time_tree+best_decision_tree_time:.2f} segundos\")\n",
    "print(f\"Tiempo de entrenamiento del modelo decision tree default: {default_time_fit_tree:.8f} segundos\")\n",
    "print(f\"Mejora en el tiempo de entrenamiento del modelo default con respecto al modelo que utiliza los HP optimizados = {(hpo_time_tree+best_decision_tree_time)/default_time_fit_tree}\")"
   ],
   "metadata": {
    "collapsed": false,
    "ExecuteTime": {
     "end_time": "2025-03-06T09:43:41.114688Z",
     "start_time": "2025-03-06T09:43:41.030267800Z"
    }
   },
   "id": "7ebc999f6bffee23",
   "outputs": [
    {
     "name": "stdout",
     "output_type": "stream",
     "text": [
      "\n",
      "HPO Decision Tree: {'class_weight': None, 'criterion': 'gini', 'max_depth': 18, 'min_impurity_decrease': 0.0001, 'min_samples_split': 2, 'random_state': 72}\n",
      "Tiempo de entrenamiento (incluyendo HPO): 35.71 segundos\n",
      "Tiempo de entrenamiento del modelo decision tree default: 0.03096867 segundos\n",
      "Mejora en el tiempo de entrenamiento del modelo default con respecto al modelo que utiliza los HP optimizados = 1153.2365195701043\n"
     ]
    }
   ],
   "execution_count": 133
  },
  {
   "cell_type": "markdown",
   "source": [
    "Observamos que encontrar los HP óptimos y entrenar el modelo óptimo tarda alrededor de 800 veces más  que entrenar el modelo utilizando los HP por defecto."
   ],
   "metadata": {
    "collapsed": false
   },
   "id": "e3cabc7532739fec"
  },
  {
   "cell_type": "code",
   "outputs": [],
   "source": [
    "import matplotlib.pyplot as plt\n",
    "from sklearn import tree\n",
    "fig = plt.figure(figsize=(25,20))\n",
    "_ = tree.plot_tree(best_decision_tree,\n",
    "                   feature_names = feature_names,\n",
    "                   filled=True)\n",
    "# Descomentar para guardar como imagen\n",
    "# plt.savefig(\"optimal_tree_plot.png\", dpi=700, bbox_inches='tight')\n",
    "# plt.close(fig)"
   ],
   "metadata": {
    "collapsed": false,
    "ExecuteTime": {
     "end_time": "2025-03-06T09:49:12.238540500Z",
     "start_time": "2025-03-06T09:48:57.138265500Z"
    }
   },
   "id": "8d6423f69223118b",
   "execution_count": 143
  },
  {
   "cell_type": "markdown",
   "source": [
    "## Estimación de rendimiento futuro (outer)"
   ],
   "metadata": {
    "collapsed": false
   },
   "id": "3d8f8c5f6c574e23"
  },
  {
   "cell_type": "code",
   "source": [
    "from sklearn.metrics import f1_score, balanced_accuracy_score, accuracy_score\n",
    "\n",
    "start_time = time.time()\n",
    "y_pred_tree = best_decision_tree.predict(X_test_transformed)\n",
    "pred_time = time.time() - start_time\n",
    "\n",
    "outer_score_tree = metrics.balanced_accuracy_score(y_test, y_pred_tree)\n",
    "tree_cr = classification_report(y_test, y_pred_tree)\n",
    "\n",
    "print(f\"Tiempo que tarda en predecir los resultados el árbol de decisión con HP optimizados: {pred_time:.8f} segundos\")\n",
    "\n",
    "print(\"\\n**Evaluación Final en Test (Outer Loop) del árbol de decisión**\")\n",
    "print(f\"Balanced Accuracy en Test: {outer_score_tree:.4f}\")\n",
    "print(f\"Accuracy en Test: {accuracy_score(y_test, y_pred_tree):.4f}\")\n",
    "print(f\"F1-Score en Test: {f1_score(y_test, y_pred_tree):.4f}\")\n",
    "print(f\"Classification report del árbol óptimo:\\n {tree_cr}\")\n",
    "\n",
    "# Mostrar la matriz de confusión\n",
    "print(\"\\nMatriz de Confusión:\")\n",
    "print(confusion_matrix(y_test, y_pred_tree))"
   ],
   "metadata": {
    "collapsed": false,
    "ExecuteTime": {
     "end_time": "2025-03-06T09:43:46.235459700Z",
     "start_time": "2025-03-06T09:43:46.206559600Z"
    }
   },
   "id": "8752ab81043502d6",
   "outputs": [
    {
     "name": "stdout",
     "output_type": "stream",
     "text": [
      "Tiempo que tarda en predecir los resultados el árbol de decisión con HP optimizados: 0.00404644 segundos\n",
      "\n",
      "**Evaluación Final en Test (Outer Loop) del árbol de decisión**\n",
      "Balanced Accuracy en Test: 0.8227\n",
      "Accuracy en Test: 0.9041\n",
      "F1-Score en Test: 0.7025\n",
      "Classification report del árbol óptimo:\n",
      "               precision    recall  f1-score   support\n",
      "\n",
      "           0       0.94      0.94      0.94       822\n",
      "           1       0.70      0.70      0.70       158\n",
      "\n",
      "    accuracy                           0.90       980\n",
      "   macro avg       0.82      0.82      0.82       980\n",
      "weighted avg       0.90      0.90      0.90       980\n",
      "\n",
      "\n",
      "Matriz de Confusión:\n",
      "[[775  47]\n",
      " [ 47 111]]\n"
     ]
    }
   ],
   "execution_count": 135
  },
  {
   "cell_type": "markdown",
   "source": [
    "## Matriz de confusión"
   ],
   "metadata": {
    "collapsed": false
   },
   "id": "ac8ecda8d265dd51"
  },
  {
   "cell_type": "markdown",
   "source": [
    "Vamos a visualizar la matriz de confusion del árbol de decisión en un gráfico de calor."
   ],
   "metadata": {
    "collapsed": false
   },
   "id": "21eff42855a765b1"
  },
  {
   "cell_type": "code",
   "source": [
    "import seaborn as sns\n",
    "import matplotlib.pyplot as plt\n",
    "from sklearn.metrics import confusion_matrix\n",
    "\n",
    "# Calcular la matriz de confusión\n",
    "cm = confusion_matrix(y_test, y_pred_tree)\n",
    "\n",
    "plt.figure(figsize=(6,5))\n",
    "sns.heatmap(cm, annot=True, fmt=\"d\", cmap=\"Blues\", xticklabels=['No', 'Yes'], yticklabels=['No', 'Yes'])\n",
    "\n",
    "plt.xlabel(\"Predicción\")\n",
    "plt.ylabel(\"Clase Real\")\n",
    "plt.title(\"Matriz de Confusión Decision Tree\")\n",
    "plt.show()"
   ],
   "metadata": {
    "collapsed": false,
    "ExecuteTime": {
     "end_time": "2025-03-06T09:43:46.903594800Z",
     "start_time": "2025-03-06T09:43:46.226267700Z"
    }
   },
   "id": "ac6f3561073dbe96",
   "outputs": [
    {
     "data": {
      "text/plain": "<Figure size 600x500 with 2 Axes>",
      "image/png": "[encoded data removed]"
     },
     "metadata": {},
     "output_type": "display_data"
    }
   ],
   "execution_count": 136
  },
  {
   "cell_type": "markdown",
   "source": [
    "## Hiperparámetros optimizados"
   ],
   "metadata": {
    "collapsed": false
   },
   "id": "1c694edeef7bc0a7"
  },
  {
   "cell_type": "markdown",
   "source": [
    "Representamos mediante una tabla los resultados obtenidos en el inner loop."
   ],
   "metadata": {
    "collapsed": false
   },
   "id": "269335468ffc0622"
  },
  {
   "cell_type": "code",
   "source": [
    "inner_scores_out_df_tree = pd.concat(inner_scores_out_tree, ignore_index=True)\n",
    "inner_scores_out_df_tree = inner_scores_out_df_tree.sort_values(by='mean_test_score', ascending=False)\n",
    "\n",
    "print(\"\\nResultados Acumulados de Validación Cruzada\")\n",
    "display(inner_scores_out_df_tree)"
   ],
   "metadata": {
    "collapsed": false,
    "ExecuteTime": {
     "end_time": "2025-03-06T09:43:46.906808600Z",
     "start_time": "2025-03-06T09:43:46.387482800Z"
    }
   },
   "id": "6943d0bc12a13ae2",
   "outputs": [
    {
     "name": "stdout",
     "output_type": "stream",
     "text": [
      "\n",
      "Resultados Acumulados de Validación Cruzada\n"
     ]
    },
    {
     "data": {
      "text/plain": "     param_max_depth  param_min_samples_split param_criterion  \\\n580               20                        2            gini   \n555               18                        2            gini   \n530               16                        2            gini   \n505               14                        2            gini   \n127               20                        6            gini   \n..               ...                      ...             ...   \n497               12                        6            gini   \n498               12                        8            gini   \n499               12                       10            gini   \n374               14                       10        log_loss   \n24                10                       10            gini   \n\n    param_class_weight  param_min_impurity_decrease  mean_test_score  \\\n580               None                       0.0001         0.825210   \n555               None                       0.0001         0.825210   \n530               None                       0.0001         0.824907   \n505               None                       0.0001         0.823446   \n127           balanced                       0.0000         0.820443   \n..                 ...                          ...              ...   \n497               None                       0.1000         0.500000   \n498               None                       0.1000         0.500000   \n499               None                       0.1000         0.500000   \n374           balanced                       0.1000         0.500000   \n24            balanced                       0.1000         0.500000   \n\n     std_test_score  rank_test_score  \n580        0.029883                1  \n555        0.029883                1  \n530        0.029668                3  \n505        0.034784                4  \n127        0.035880                5  \n..              ...              ...  \n497        0.000000              721  \n498        0.000000              721  \n499        0.000000              721  \n374        0.000000              721  \n24         0.000000              721  \n\n[900 rows x 8 columns]",
      "text/html": "<div>\n<style scoped>\n    .dataframe tbody tr th:only-of-type {\n        vertical-align: middle;\n    }\n\n    .dataframe tbody tr th {\n        vertical-align: top;\n    }\n\n    .dataframe thead th {\n        text-align: right;\n    }\n</style>\n<table border=\"1\" class=\"dataframe\">\n  <thead>\n    <tr style=\"text-align: right;\">\n      <th></th>\n      <th>param_max_depth</th>\n      <th>param_min_samples_split</th>\n      <th>param_criterion</th>\n      <th>param_class_weight</th>\n      <th>param_min_impurity_decrease</th>\n      <th>mean_test_score</th>\n      <th>std_test_score</th>\n      <th>rank_test_score</th>\n    </tr>\n  </thead>\n  <tbody>\n    <tr>\n      <th>580</th>\n      <td>20</td>\n      <td>2</td>\n      <td>gini</td>\n      <td>None</td>\n      <td>0.0001</td>\n      <td>0.825210</td>\n      <td>0.029883</td>\n      <td>1</td>\n    </tr>\n    <tr>\n      <th>555</th>\n      <td>18</td>\n      <td>2</td>\n      <td>gini</td>\n      <td>None</td>\n      <td>0.0001</td>\n      <td>0.825210</td>\n      <td>0.029883</td>\n      <td>1</td>\n    </tr>\n    <tr>\n      <th>530</th>\n      <td>16</td>\n      <td>2</td>\n      <td>gini</td>\n      <td>None</td>\n      <td>0.0001</td>\n      <td>0.824907</td>\n      <td>0.029668</td>\n      <td>3</td>\n    </tr>\n    <tr>\n      <th>505</th>\n      <td>14</td>\n      <td>2</td>\n      <td>gini</td>\n      <td>None</td>\n      <td>0.0001</td>\n      <td>0.823446</td>\n      <td>0.034784</td>\n      <td>4</td>\n    </tr>\n    <tr>\n      <th>127</th>\n      <td>20</td>\n      <td>6</td>\n      <td>gini</td>\n      <td>balanced</td>\n      <td>0.0000</td>\n      <td>0.820443</td>\n      <td>0.035880</td>\n      <td>5</td>\n    </tr>\n    <tr>\n      <th>...</th>\n      <td>...</td>\n      <td>...</td>\n      <td>...</td>\n      <td>...</td>\n      <td>...</td>\n      <td>...</td>\n      <td>...</td>\n      <td>...</td>\n    </tr>\n    <tr>\n      <th>497</th>\n      <td>12</td>\n      <td>6</td>\n      <td>gini</td>\n      <td>None</td>\n      <td>0.1000</td>\n      <td>0.500000</td>\n      <td>0.000000</td>\n      <td>721</td>\n    </tr>\n    <tr>\n      <th>498</th>\n      <td>12</td>\n      <td>8</td>\n      <td>gini</td>\n      <td>None</td>\n      <td>0.1000</td>\n      <td>0.500000</td>\n      <td>0.000000</td>\n      <td>721</td>\n    </tr>\n    <tr>\n      <th>499</th>\n      <td>12</td>\n      <td>10</td>\n      <td>gini</td>\n      <td>None</td>\n      <td>0.1000</td>\n      <td>0.500000</td>\n      <td>0.000000</td>\n      <td>721</td>\n    </tr>\n    <tr>\n      <th>374</th>\n      <td>14</td>\n      <td>10</td>\n      <td>log_loss</td>\n      <td>balanced</td>\n      <td>0.1000</td>\n      <td>0.500000</td>\n      <td>0.000000</td>\n      <td>721</td>\n    </tr>\n    <tr>\n      <th>24</th>\n      <td>10</td>\n      <td>10</td>\n      <td>gini</td>\n      <td>balanced</td>\n      <td>0.1000</td>\n      <td>0.500000</td>\n      <td>0.000000</td>\n      <td>721</td>\n    </tr>\n  </tbody>\n</table>\n<p>900 rows × 8 columns</p>\n</div>"
     },
     "metadata": {},
     "output_type": "display_data"
    }
   ],
   "execution_count": 137
  },
  {
   "cell_type": "code",
   "outputs": [
    {
     "data": {
      "text/plain": "<Figure size 800x600 with 1 Axes>",
      "image/png": "[encoded data removed]"
     },
     "metadata": {},
     "output_type": "display_data"
    }
   ],
   "source": [
    "inner_scores_out_df_tree = pd.concat(inner_scores_out_tree, ignore_index=True)\n",
    "\n",
    "grouped_scores_tree = inner_scores_out_df_tree.groupby('param_max_depth').agg(\n",
    "    mean_balanced_accuracy=('mean_test_score', 'mean'),\n",
    "    std_balanced_accuracy=('std_test_score', 'mean')\n",
    ").reset_index()\n",
    "\n",
    "plt.figure(figsize=(8,6))\n",
    "\n",
    "plt.bar(grouped_scores_tree['param_max_depth'], \n",
    "        grouped_scores_tree['mean_balanced_accuracy'], \n",
    "        yerr=grouped_scores_tree['std_balanced_accuracy'], \n",
    "        capsize=5, color='royalblue', alpha=0.7, label='Balanced Accuracy')\n",
    "\n",
    "plt.xlabel(\"Profundidad máxima (max_depth)\")\n",
    "plt.ylabel(\"Balanced Accuracy (Media de CV)\")\n",
    "plt.title(f\"Efecto de la profundidad máxima en Balanced Accuracy (CV={inner.get_n_splits()})\")\n",
    "plt.xticks(grouped_scores_tree['param_max_depth'])\n",
    "plt.grid(axis='y', linestyle='--', alpha=0.7)\n",
    "plt.legend()\n",
    "\n",
    "plt.show()"
   ],
   "metadata": {
    "collapsed": false,
    "ExecuteTime": {
     "end_time": "2025-03-06T09:46:30.617968100Z",
     "start_time": "2025-03-06T09:46:30.428935900Z"
    }
   },
   "id": "77f3312f7f6581b8",
   "execution_count": 142
  },
  {
   "cell_type": "code",
   "outputs": [
    {
     "data": {
      "text/plain": "<Figure size 800x600 with 1 Axes>",
      "image/png": "[encoded data removed]"
     },
     "metadata": {},
     "output_type": "display_data"
    }
   ],
   "source": [
    "inner_scores_out_df_tree = pd.concat(inner_scores_out_tree, ignore_index=True)\n",
    "\n",
    "grouped_scores_tree = inner_scores_out_df_tree.groupby('param_min_samples_split').agg(\n",
    "    mean_balanced_accuracy=('mean_test_score', 'mean'),\n",
    "    std_balanced_accuracy=('std_test_score', 'mean')\n",
    ").reset_index()\n",
    "\n",
    "plt.figure(figsize=(8,6))\n",
    "\n",
    "plt.bar(grouped_scores_tree['param_min_samples_split'], \n",
    "        grouped_scores_tree['mean_balanced_accuracy'], \n",
    "        yerr=grouped_scores_tree['std_balanced_accuracy'], \n",
    "        capsize=5, color='royalblue', alpha=0.7, label='Balanced Accuracy')\n",
    "\n",
    "plt.xlabel(\"Instancias mínimas para separar un nodo (min_samples_split)\")\n",
    "plt.ylabel(\"Balanced Accuracy (Media de CV)\")\n",
    "plt.title(f\"Efecto de la profundidad máxima en Balanced Accuracy (CV={inner.get_n_splits()})\")\n",
    "plt.xticks(grouped_scores_tree['param_min_samples_split'])\n",
    "plt.grid(axis='y', linestyle='--', alpha=0.7)\n",
    "plt.legend()\n",
    "\n",
    "plt.show()"
   ],
   "metadata": {
    "collapsed": false,
    "ExecuteTime": {
     "end_time": "2025-03-06T09:43:47.009230500Z",
     "start_time": "2025-03-06T09:43:46.563773400Z"
    }
   },
   "id": "ea31b5bf20dff2e9",
   "execution_count": 139
  },
  {
   "cell_type": "code",
   "outputs": [
    {
     "data": {
      "text/plain": "<Figure size 800x600 with 2 Axes>",
      "image/png": "[encoded data removed]"
     },
     "metadata": {},
     "output_type": "display_data"
    }
   ],
   "source": [
    "import seaborn as sns\n",
    "import matplotlib.pyplot as plt\n",
    "\n",
    "# Convertir la lista de resultados acumulados en un DataFrame\n",
    "inner_scores_out_df_tree = pd.concat(inner_scores_out_tree, ignore_index=True)\n",
    "\n",
    "# Crear una tabla pivote para el heatmap (max_depth vs metric) mostrando mean_test_score\n",
    "heatmap_data_tree = inner_scores_out_df_tree.pivot_table(\n",
    "    index='param_max_depth', columns='param_min_samples_split', values='mean_test_score', aggfunc='mean'\n",
    ")\n",
    "\n",
    "plt.figure(figsize=(8,6))\n",
    "sns.heatmap(heatmap_data_tree, annot=True, fmt=\".3f\", cmap=\"coolwarm\", linewidths=0.5)\n",
    "\n",
    "plt.xlabel(\"Min_samples_split\")\n",
    "plt.ylabel(\"Profundidad máxima (max_depth)\")\n",
    "plt.title(f\"Balanced Accuracy según min_samples_split y max_depth (CV={inner.get_n_splits()})\")\n",
    "\n",
    "plt.show()"
   ],
   "metadata": {
    "collapsed": false,
    "ExecuteTime": {
     "end_time": "2025-03-06T09:43:47.235636900Z",
     "start_time": "2025-03-06T09:43:46.778636Z"
    }
   },
   "id": "7ba31b4754405fc3",
   "execution_count": 140
  }
 ],
 "metadata": {
  "kernelspec": {
   "display_name": "Python 3",
   "language": "python",
   "name": "python3"
  },
  "language_info": {
   "codemirror_mode": {
    "name": "ipython",
    "version": 2
   },
   "file_extension": ".py",
   "mimetype": "text/x-python",
   "name": "python",
   "nbconvert_exporter": "python",
   "pygments_lexer": "ipython2",
   "version": "2.7.6"
  }
 },
 "nbformat": 4,
 "nbformat_minor": 5
}
