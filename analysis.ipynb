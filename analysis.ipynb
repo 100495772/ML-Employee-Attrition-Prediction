{
 "cells": [
  {
   "metadata": {},
   "cell_type": "markdown",
   "source": [
    "Ilinca Bianca Mitrea Mitrea 100495772\n",
    "\n",
    "David Mancebo Barrena 100495917"
   ],
   "id": "b91d6f8d12494a58"
  },
  {
   "metadata": {},
   "cell_type": "markdown",
   "source": "# 1.EDA",
   "id": "806a6737a45b1e5b"
  },
  {
   "metadata": {},
   "cell_type": "markdown",
   "source": "## Número de variables e instancias",
   "id": "81632e54174c4eb3"
  },
  {
   "metadata": {
    "collapsed": true,
    "ExecuteTime": {
     "end_time": "2025-02-27T16:35:20.148294Z",
     "start_time": "2025-02-27T16:35:20.098555Z"
    }
   },
   "cell_type": "code",
   "outputs": [
    {
     "name": "stdout",
     "output_type": "stream",
     "text": [
      "Número de instancias: 2940\n",
      "Número de variables: 31\n"
     ]
    }
   ],
   "execution_count": 17,
   "source": [
    "import pandas as pd\n",
    "df = pd.read_csv(\"attrition_availabledata_08.csv\")\n",
    "print(\"Número de instancias:\", df.shape[0])\n",
    "print(\"Número de variables:\", df.shape[1])\n"
   ],
   "id": "initial_id"
  },
  {
   "metadata": {},
   "cell_type": "markdown",
   "source": "## Tipo de variables\n",
   "id": "dea8c1da241372ab"
  },
  {
   "metadata": {},
   "cell_type": "markdown",
   "source": "Para identificar el tipo de cada variable en el dataset vamos a utilizar funciones de pandas.",
   "id": "144024fa986b7385"
  },
  {
   "metadata": {
    "ExecuteTime": {
     "end_time": "2025-02-27T16:35:54.840418Z",
     "start_time": "2025-02-27T16:35:54.823574Z"
    }
   },
   "cell_type": "code",
   "outputs": [
    {
     "name": "stdout",
     "output_type": "stream",
     "text": [
      "<class 'pandas.core.frame.DataFrame'>\n",
      "RangeIndex: 2940 entries, 0 to 2939\n",
      "Data columns (total 27 columns):\n",
      " #   Column                   Non-Null Count  Dtype  \n",
      "---  ------                   --------------  -----  \n",
      " 0   hrs                      2940 non-null   float64\n",
      " 1   absences                 2940 non-null   int64  \n",
      " 2   JobInvolvement           2940 non-null   int64  \n",
      " 3   PerformanceRating        2940 non-null   int64  \n",
      " 4   EnvironmentSatisfaction  2923 non-null   float64\n",
      " 5   JobSatisfaction          2928 non-null   float64\n",
      " 6   WorkLifeBalance          2916 non-null   float64\n",
      " 7   Age                      2940 non-null   int64  \n",
      " 8   BusinessTravel           2940 non-null   object \n",
      " 9   Department               2940 non-null   object \n",
      " 10  DistanceFromHome         2940 non-null   int64  \n",
      " 11  Education                2940 non-null   int64  \n",
      " 12  EducationField           2940 non-null   object \n",
      " 13  Gender                   2940 non-null   object \n",
      " 14  JobLevel                 2940 non-null   int64  \n",
      " 15  JobRole                  2940 non-null   object \n",
      " 16  MaritalStatus            2940 non-null   object \n",
      " 17  MonthlyIncome            2940 non-null   int64  \n",
      " 18  NumCompaniesWorked       2929 non-null   float64\n",
      " 19  PercentSalaryHike        2940 non-null   int64  \n",
      " 20  StockOptionLevel         2940 non-null   int64  \n",
      " 21  TotalWorkingYears        2936 non-null   float64\n",
      " 22  TrainingTimesLastYear    2940 non-null   int64  \n",
      " 23  YearsAtCompany           2940 non-null   int64  \n",
      " 24  YearsSinceLastPromotion  2940 non-null   int64  \n",
      " 25  YearsWithCurrManager     2940 non-null   int64  \n",
      " 26  Attrition                2940 non-null   object \n",
      "dtypes: float64(6), int64(14), object(7)\n",
      "memory usage: 620.3+ KB\n"
     ]
    }
   ],
   "execution_count": 20,
   "source": "df.info()",
   "id": "631f392692db4d08"
  },
  {
   "metadata": {
    "ExecuteTime": {
     "end_time": "2025-02-27T16:36:01.862291Z",
     "start_time": "2025-02-27T16:36:01.854672Z"
    }
   },
   "cell_type": "code",
   "outputs": [
    {
     "name": "stdout",
     "output_type": "stream",
     "text": [
      "Variables numéricas: Index(['hrs', 'absences', 'JobInvolvement', 'PerformanceRating',\n",
      "       'EnvironmentSatisfaction', 'JobSatisfaction', 'WorkLifeBalance', 'Age',\n",
      "       'DistanceFromHome', 'Education', 'JobLevel', 'MonthlyIncome',\n",
      "       'NumCompaniesWorked', 'PercentSalaryHike', 'StockOptionLevel',\n",
      "       'TotalWorkingYears', 'TrainingTimesLastYear', 'YearsAtCompany',\n",
      "       'YearsSinceLastPromotion', 'YearsWithCurrManager'],\n",
      "      dtype='object')\n",
      "Número de variables numéricas: 20\n",
      "Variables numéricas: Index(['BusinessTravel', 'Department', 'EducationField', 'Gender', 'JobRole',\n",
      "       'MaritalStatus', 'Attrition'],\n",
      "      dtype='object')\n",
      "Número de variables categóricas: 7\n"
     ]
    }
   ],
   "execution_count": 21,
   "source": [
    "\n",
    "# Seleccionar variables numéricas\n",
    "numeric_vars = df.select_dtypes(include=['number'])\n",
    "print(\"Variables numéricas:\", numeric_vars.columns)\n",
    "print(\"Número de variables numéricas:\", len(numeric_vars.columns))\n",
    "\n",
    "# Seleccionar variables categóricas\n",
    "categorical_vars = df.select_dtypes(include=['object'])\n",
    "print(\"Variables numéricas:\", categorical_vars.columns)\n",
    "print(\"Número de variables categóricas:\", len(categorical_vars.columns))"
   ],
   "id": "ff07b7c5800c2d8c"
  },
  {
   "metadata": {},
   "cell_type": "markdown",
   "source": [
    "\n",
    "\n",
    "De las 8 variables categóricas, se puede observar que una de ellas es ordinal. Por lo que:\n",
    "Número de variables numéricas: 23\n",
    "\n",
    "Número de variables categóricas: 8\n",
    "\n",
    "Variables ordinales: BusinessTravel."
   ],
   "id": "f667a8bad1866b94"
  },
  {
   "metadata": {},
   "cell_type": "markdown",
   "source": "## Cardinalidad de las variables categóricas",
   "id": "37b324c0a6a180bf"
  },
  {
   "metadata": {
    "ExecuteTime": {
     "end_time": "2025-02-27T16:37:21.004277Z",
     "start_time": "2025-02-27T16:37:20.996350Z"
    }
   },
   "cell_type": "code",
   "outputs": [
    {
     "name": "stdout",
     "output_type": "stream",
     "text": [
      "Cardinalidad de cada variable categórica:\n",
      "JobRole           9\n",
      "EducationField    6\n",
      "BusinessTravel    3\n",
      "Department        3\n",
      "MaritalStatus     3\n",
      "Gender            2\n",
      "Attrition         2\n",
      "dtype: int64\n"
     ]
    }
   ],
   "execution_count": 22,
   "source": [
    "cardinality = categorical_vars.nunique().sort_values(ascending=False)\n",
    "print(\"Cardinalidad de cada variable categórica:\")\n",
    "print(cardinality)"
   ],
   "id": "61cb75b69f3458d9"
  },
  {
   "metadata": {},
   "cell_type": "markdown",
   "source": "Observamos que las variables con mayor cardinalidad son JobRole, con una cardinalidad de 9, y EducationField, con una cardinalidad de 6.\n",
   "id": "89ae8cd5a5144efc"
  },
  {
   "metadata": {},
   "cell_type": "markdown",
   "source": "## Valores faltantes",
   "id": "6ebdd4ae3b4feda9"
  },
  {
   "metadata": {},
   "cell_type": "markdown",
   "source": "Vamos a contar los valores faltantes.",
   "id": "4fc92d9b1360ae88"
  },
  {
   "metadata": {
    "ExecuteTime": {
     "end_time": "2025-02-27T16:19:14.180505Z",
     "start_time": "2025-02-27T16:19:14.163235Z"
    }
   },
   "cell_type": "code",
   "outputs": [
    {
     "name": "stdout",
     "output_type": "stream",
     "text": [
      "Variables con valores faltantes y su cantidad:\n",
      "EnvironmentSatisfaction    17\n",
      "JobSatisfaction            12\n",
      "WorkLifeBalance            24\n",
      "NumCompaniesWorked         11\n",
      "TotalWorkingYears           4\n",
      "dtype: int64\n",
      "\n",
      "Porcentaje de valores faltantes por variable:\n",
      "WorkLifeBalance            0.816327\n",
      "EnvironmentSatisfaction    0.578231\n",
      "JobSatisfaction            0.408163\n",
      "NumCompaniesWorked         0.374150\n",
      "TotalWorkingYears          0.136054\n",
      "dtype: float64\n"
     ]
    }
   ],
   "execution_count": 12,
   "source": [
    "# Contar valores faltantes en cada columna\n",
    "missing_values = df.isnull().sum()\n",
    "\n",
    "# Filtrar solo las variables que tienen valores faltantes\n",
    "missing_values = missing_values[missing_values > 0]\n",
    "\n",
    "# Mostrar el resultado\n",
    "print(\"Variables con valores faltantes y su cantidad:\")\n",
    "print(missing_values)\n",
    "\n",
    "# Calcular el porcentaje de valores faltantes\n",
    "missing_percentage = (df.isnull().sum() / len(df)) * 100\n",
    "\n",
    "# Filtrar solo las columnas que tienen valores faltantes\n",
    "missing_percentage = missing_percentage[missing_percentage > 0]\n",
    "\n",
    "print(\"\\nPorcentaje de valores faltantes por variable:\")\n",
    "print(missing_percentage.sort_values(ascending=False))\n"
   ],
   "id": "89f9a63fa1d5d2ee"
  },
  {
   "metadata": {},
   "cell_type": "markdown",
   "source": "Observamos que el porcentaje de valores faltantes es bajo, por lo que podríamos simplemente eliminarlos o usar imputación básica.",
   "id": "9b05d557cfb15de1"
  },
  {
   "metadata": {},
   "cell_type": "markdown",
   "source": "## Columnas constantes e identificadores",
   "id": "56c7e7e938ab7f20"
  },
  {
   "metadata": {
    "ExecuteTime": {
     "end_time": "2025-02-27T16:27:39.811838Z",
     "start_time": "2025-02-27T16:27:39.769302Z"
    }
   },
   "cell_type": "code",
   "outputs": [
    {
     "name": "stdout",
     "output_type": "stream",
     "text": [
      "Columnas constantes:\n",
      "EmployeeCount    1\n",
      "Over18           1\n",
      "StandardHours    1\n",
      "dtype: int64\n",
      "\n",
      "Columnas de ID:\n",
      "EmployeeID    2940\n",
      "dtype: int64\n",
      "\n",
      "Dataset después de eliminar columnas constantes e ID: (2940, 27)\n"
     ]
    }
   ],
   "execution_count": 15,
   "source": [
    "# Contar valores únicos por columna\n",
    "constant_cols = df.nunique()[df.nunique() == 1]\n",
    "\n",
    "print(\"Columnas constantes:\")\n",
    "print(constant_cols)\n",
    "\n",
    "# Contar valores únicos en cada columna y compararlos con el número de filas\n",
    "id_cols = df.nunique()[df.nunique() == df.shape[0]]\n",
    "\n",
    "print(\"\\nColumnas de ID:\")\n",
    "print(id_cols)\n"
   ],
   "id": "ad45fb27cc8634e7"
  },
  {
   "metadata": {},
   "cell_type": "markdown",
   "source": "## Tipo de problema",
   "id": "ae755023c341e0c9"
  },
  {
   "metadata": {},
   "cell_type": "markdown",
   "source": "En este caso, la variable Attrition indica si un empleado renuncia, por lo que es un problema de clasificación.",
   "id": "93e0957b224103e3"
  },
  {
   "metadata": {},
   "cell_type": "markdown",
   "source": "## Desbalanceo de datos\n",
   "id": "3750b7f937717536"
  },
  {
   "metadata": {
    "ExecuteTime": {
     "end_time": "2025-02-27T16:46:48.715217Z",
     "start_time": "2025-02-27T16:46:48.707538Z"
    }
   },
   "cell_type": "code",
   "source": [
    "# Contar las instancias por cada clase\n",
    "conteo = df['Attrition'].value_counts()\n",
    "print(\"Conteo por clase:\")\n",
    "print(conteo)\n",
    "\n",
    "# Calcular el porcentaje de cada clase\n",
    "porcentajes = df['Attrition'].value_counts(normalize=True) * 100\n",
    "print(\"\\nPorcentaje por clase:\")\n",
    "print(porcentajes)"
   ],
   "id": "820710eff4d87c11",
   "outputs": [
    {
     "name": "stdout",
     "output_type": "stream",
     "text": [
      "Conteo por clase:\n",
      "Attrition\n",
      "No     2466\n",
      "Yes     474\n",
      "Name: count, dtype: int64\n",
      "\n",
      "Porcentaje por clase:\n",
      "Attrition\n",
      "No     83.877551\n",
      "Yes    16.122449\n",
      "Name: proportion, dtype: float64\n"
     ]
    }
   ],
   "execution_count": 23
  },
  {
   "metadata": {},
   "cell_type": "markdown",
   "source": "También podemos visualizar la distribución con un gráfico de barras",
   "id": "fc68fccb0f3d2002"
  },
  {
   "metadata": {
    "ExecuteTime": {
     "end_time": "2025-02-27T16:47:35.873687Z",
     "start_time": "2025-02-27T16:47:34.706483Z"
    }
   },
   "cell_type": "code",
   "source": [
    "import seaborn as sns\n",
    "import matplotlib.pyplot as plt\n",
    "\n",
    "sns.countplot(x='Attrition', data=df)\n",
    "plt.title(\"Distribución de la variable 'Attrition'\")\n",
    "plt.show()\n"
   ],
   "id": "6c4fe09c75554b91",
   "outputs": [
    {
     "data": {
      "text/plain": [
       "<Figure size 640x480 with 1 Axes>"
      ],
      "image/png": "[encoded data removed]"
     },
     "metadata": {},
     "output_type": "display_data"
    }
   ],
   "execution_count": 24
  },
  {
   "metadata": {},
   "cell_type": "markdown",
   "source": [
    "Sí, el dataset está desbalanceado porque la clase mayoritaria (\"No\" - empleados que no abandonan la empresa) representa el 83.88% de los datos, mientras que la clase minoritaria (\"Yes\" - empleados que abandonan la empresa) solo representa el 16.12%.\n",
    "Podríamos usar SMOTE para aumentar la clase minoritaria (oversampling)\n"
   ],
   "id": "7d5b53d00e59bf67"
  },
  {
   "metadata": {},
   "cell_type": "markdown",
   "source": "# 2. Preproceso de datos",
   "id": "fba84fb42e9f6cbe"
  },
  {
   "metadata": {},
   "cell_type": "markdown",
   "source": [
    "Según las diapositivas de clase el preproceso tiene las siguientes fases en general:\n",
    "\n",
    "Instancias:\n",
    "1. Quitar datos ruidosos (Wilson editing rule) (sobre todo para KNN)\n",
    "2. Quitar datos redundantes (Condensación, sobre todo para KNN)\n",
    "3. Re-balanceo en problemas de clase desbalanceada: oversampling,\n",
    "undersampling, SMOTE – Synthetic Minority Over-sampling Technique, …\n",
    "\n",
    "Atributos:\n",
    "1. Escalado/Normalización (MinMax, Standard, Robust)\n",
    "2. Quitar atributos constantes\n",
    "3. Imputación (¿qué hacer con valores faltantes (missing values))?\n",
    "4. Codificación de atributos categóricos (one-hot-encoding/dummy variables,\n",
    "codificación ordinal, alta cardinalidad, …)\n",
    "5. Selección de atributos\n",
    "6. Transformación de atributos (PCA, ...) \""
   ],
   "id": "c9c06c1408c1973b"
  },
  {
   "metadata": {},
   "cell_type": "markdown",
   "source": "## Eliminación de atributos constantes",
   "id": "3fdf8adcac7aec30"
  },
  {
   "metadata": {
    "ExecuteTime": {
     "end_time": "2025-02-27T17:25:31.811912Z",
     "start_time": "2025-02-27T17:25:31.799374Z"
    }
   },
   "cell_type": "code",
   "source": [
    "# Detectar columnas constantes\n",
    "constant_cols = [col for col in df.columns if df[col].nunique() == 1]\n",
    "\n",
    "# Eliminar columnas constantes\n",
    "df = df.drop(columns=constant_cols)\n",
    "\n",
    "print(\"Columnas constantes eliminadas:\", constant_cols)"
   ],
   "id": "4157dd8dd5e7bba5",
   "outputs": [
    {
     "name": "stdout",
     "output_type": "stream",
     "text": [
      "Columnas constantes eliminadas: []\n"
     ]
    }
   ],
   "execution_count": 25
  },
  {
   "metadata": {},
   "cell_type": "markdown",
   "source": "## Eliminación de identificadores",
   "id": "dbc2800ac5482d0e"
  },
  {
   "metadata": {
    "ExecuteTime": {
     "end_time": "2025-02-27T17:26:48.991900Z",
     "start_time": "2025-02-27T17:26:48.980160Z"
    }
   },
   "cell_type": "code",
   "source": [
    "# Detectar columnas de identificación (cardinalidad igual al número de filas)\n",
    "id_cols = [col for col in df.columns if df[col].nunique() == df.shape[0]]\n",
    "\n",
    "# Eliminar columnas de ID\n",
    "df = df.drop(columns=id_cols)\n",
    "\n",
    "print(\"Columnas de identificación eliminadas:\", id_cols)\n"
   ],
   "id": "595502998771773c",
   "outputs": [
    {
     "name": "stdout",
     "output_type": "stream",
     "text": [
      "Columnas de identificación eliminadas: []\n"
     ]
    }
   ],
   "execution_count": 29
  },
  {
   "metadata": {
    "ExecuteTime": {
     "end_time": "2025-02-27T17:26:45.727352Z",
     "start_time": "2025-02-27T17:26:45.722069Z"
    }
   },
   "cell_type": "code",
   "source": [
    "print(\"\\nDataset después de eliminar columnas constantes e ID:\")\n",
    "print(\"Número de instancias:\", df.shape[0])\n",
    "print(\"Número de variables:\", df.shape[1])"
   ],
   "id": "5a910c20d2c4ea59",
   "outputs": [
    {
     "name": "stdout",
     "output_type": "stream",
     "text": [
      "\n",
      "Dataset después de eliminar columnas constantes e ID:\n",
      "Número de instancias: 2940\n",
      "Número de variables: 27\n"
     ]
    }
   ],
   "execution_count": 28
  },
  {
   "metadata": {},
   "cell_type": "markdown",
   "source": "## Imputación de valores faltantes",
   "id": "96e735775169ce52"
  },
  {
   "metadata": {
    "ExecuteTime": {
     "end_time": "2025-02-27T17:49:26.340125Z",
     "start_time": "2025-02-27T17:49:26.322489Z"
    }
   },
   "cell_type": "code",
   "source": [
    "# Separar variables numéricas y categóricas\n",
    "numeric_cols = df.select_dtypes(include=['number'])\n",
    "categorical_cols = df.select_dtypes(include=['object'])\n",
    "\n",
    "# Contar cuántas variables tienen valores faltantes (cantidad y porcentaje)\n",
    "num_missing = numeric_cols.isnull().sum()\n",
    "cat_missing = categorical_cols.isnull().sum()\n",
    "\n",
    "# Calcular el porcentaje de valores faltantes\n",
    "num_missing_percent = (num_missing / len(df)) * 100\n",
    "cat_missing_percent = (cat_missing / len(df)) * 100\n",
    "\n",
    "# Filtrar solo las variables que tienen valores faltantes\n",
    "num_missing = num_missing[num_missing > 0]\n",
    "num_missing_percent = num_missing_percent[num_missing.index]\n",
    "\n",
    "cat_missing = cat_missing[cat_missing > 0]\n",
    "cat_missing_percent = cat_missing_percent[cat_missing.index]\n",
    "\n",
    "print(f\"Número de variables numéricas con valores faltantes: {len(num_missing)}\")\n",
    "print(pd.DataFrame({'Valores Faltantes': num_missing, 'Porcentaje': num_missing_percent.round(2)}))\n",
    "\n",
    "print(f\"\\nNúmero de variables categóricas con valores faltantes: {len(cat_missing)}\")\n",
    "print(pd.DataFrame({'Valores Faltantes': cat_missing, 'Porcentaje': cat_missing_percent.round(2)}))\n",
    "\n"
   ],
   "id": "cd5fad47635037b5",
   "outputs": [
    {
     "name": "stdout",
     "output_type": "stream",
     "text": [
      "Número de variables numéricas con valores faltantes: 5\n",
      "                         Valores Faltantes  Porcentaje\n",
      "EnvironmentSatisfaction                 17        0.58\n",
      "JobSatisfaction                         12        0.41\n",
      "WorkLifeBalance                         24        0.82\n",
      "NumCompaniesWorked                      11        0.37\n",
      "TotalWorkingYears                        4        0.14\n",
      "\n",
      "Número de variables categóricas con valores faltantes: 0\n",
      "Empty DataFrame\n",
      "Columns: [Valores Faltantes, Porcentaje]\n",
      "Index: []\n"
     ]
    }
   ],
   "execution_count": 31
  },
  {
   "metadata": {},
   "cell_type": "markdown",
   "source": "Tenemos valores faltantes solo en variables categóricas. Además,con porcentajes muy bajos (menos de 1% en cada una), por lo que el problema es leve. Dado que los porcentajes son bajos, podríamos imputar estos valores faltantes. Con el fin de evitar sesgos de outliers y, sobre todo, porque necesitamos valores discretos, vamos a imputar con la mediana.",
   "id": "47f8221b90b9a091"
  },
  {
   "metadata": {
    "ExecuteTime": {
     "end_time": "2025-02-27T17:57:22.895140Z",
     "start_time": "2025-02-27T17:57:21.011056Z"
    }
   },
   "cell_type": "code",
   "source": [
    "from sklearn.impute import SimpleImputer\n",
    "\n",
    "# Lista de variables numéricas con valores faltantes\n",
    "numeric_missing_vars = ['EnvironmentSatisfaction', 'JobSatisfaction', 'WorkLifeBalance', \n",
    "                        'NumCompaniesWorked', 'TotalWorkingYears']\n",
    "\n",
    "# imputador con mediana\n",
    "imputer = SimpleImputer(strategy='median')\n",
    "\n",
    "# Aplicar imputación a las variables numéricas con valores faltantes\n",
    "df[numeric_missing_vars] = imputer.fit_transform(df[numeric_missing_vars])\n",
    "\n",
    "# Verificar si quedan valores faltantes después de la imputación\n",
    "print(df[numeric_missing_vars].isnull().sum())"
   ],
   "id": "6963e1e86b0dc3e1",
   "outputs": [
    {
     "name": "stdout",
     "output_type": "stream",
     "text": [
      "EnvironmentSatisfaction    0\n",
      "JobSatisfaction            0\n",
      "WorkLifeBalance            0\n",
      "NumCompaniesWorked         0\n",
      "TotalWorkingYears          0\n",
      "dtype: int64\n"
     ]
    }
   ],
   "execution_count": 32
  },
  {
   "metadata": {},
   "cell_type": "markdown",
   "source": "## Encoding",
   "id": "3f2aa5d1df317daf"
  },
  {
   "metadata": {
    "ExecuteTime": {
     "end_time": "2025-02-27T18:13:44.341996Z",
     "start_time": "2025-02-27T18:13:44.312349Z"
    }
   },
   "cell_type": "code",
   "source": [
    "# Identificar variables categóricas\n",
    "categorical_cols = df.select_dtypes(include=['object']).columns\n",
    "print(\"Variables categóricas:\", categorical_cols)"
   ],
   "id": "ded75f155ffd4c7",
   "outputs": [
    {
     "name": "stdout",
     "output_type": "stream",
     "text": [
      "Variables categóricas: Index(['BusinessTravel', 'Department', 'EducationField', 'Gender', 'JobRole',\n",
      "       'MaritalStatus', 'Attrition'],\n",
      "      dtype='object')\n"
     ]
    }
   ],
   "execution_count": 33
  },
  {
   "metadata": {},
   "cell_type": "markdown",
   "source": "Vamos a identificar las variables ordinales dentro de las variables categóricas para determinar qué tipo de encoding haremos para cada una.",
   "id": "d9373519ee67051f"
  },
  {
   "metadata": {},
   "cell_type": "markdown",
   "source": "",
   "id": "991f74e88c8ce275"
  },
  {
   "metadata": {
    "ExecuteTime": {
     "end_time": "2025-02-27T18:17:43.467280Z",
     "start_time": "2025-02-27T18:17:43.457040Z"
    }
   },
   "cell_type": "code",
   "source": [
    "# Mostrar valores únicos por cada variable categórica\n",
    "for col in categorical_cols:\n",
    "    print(f\"\\n{col}:\")\n",
    "    print(df[col].unique())\n"
   ],
   "id": "3e61d89db7dbf53c",
   "outputs": [
    {
     "name": "stdout",
     "output_type": "stream",
     "text": [
      "\n",
      "BusinessTravel:\n",
      "['Non-Travel' 'Travel_Frequently' 'Travel_Rarely']\n",
      "\n",
      "Department:\n",
      "['Research & Development' 'Sales' 'Human Resources']\n",
      "\n",
      "EducationField:\n",
      "['Other' 'Marketing' 'Life Sciences' 'Technical Degree' 'Medical'\n",
      " 'Human Resources']\n",
      "\n",
      "Gender:\n",
      "['Female' 'Male']\n",
      "\n",
      "JobRole:\n",
      "['Research Scientist' 'Manufacturing Director' 'Healthcare Representative'\n",
      " 'Sales Executive' 'Manager' 'Laboratory Technician' 'Research Director'\n",
      " 'Sales Representative' 'Human Resources']\n",
      "\n",
      "MaritalStatus:\n",
      "['Divorced' 'Married' 'Single']\n",
      "\n",
      "Attrition:\n",
      "['No' 'Yes']\n"
     ]
    }
   ],
   "execution_count": 34
  },
  {
   "metadata": {},
   "cell_type": "markdown",
   "source": [
    "Vemos que todas son categóricas, excepto BusinessTravel que es ordinal porque tiene un orden implícito. Attrition y gender pueden tratarse como variables binarias.\n",
    "\n",
    "Para variables ordinales: usamos Label Encoding\n",
    "\n",
    "Para variables nominales: usamos One-Hot Encoding\n",
    "\n",
    "Para variables binarias: convertimos a 0 y 1\n"
   ],
   "id": "fc471f5ec569607d"
  },
  {
   "metadata": {
    "ExecuteTime": {
     "end_time": "2025-02-27T18:23:47.673367Z",
     "start_time": "2025-02-27T18:23:47.638609Z"
    }
   },
   "cell_type": "code",
   "source": [
    "from sklearn.preprocessing import LabelEncoder\n",
    "\n",
    "# One-Hot Encoding para variables nominales\n",
    "df = pd.get_dummies(df, columns=['Department', 'EducationField', 'JobRole', 'MaritalStatus'], drop_first=True)\n",
    "\n",
    "# Label Encoding para variables ordinales\n",
    "ordinal_cols = ['BusinessTravel']\n",
    "le = LabelEncoder()\n",
    "for col in ordinal_cols:\n",
    "    df[col] = le.fit_transform(df[col])\n",
    "\n",
    "# Convertir variable binaria Attrition\n",
    "df['Attrition'] = df['Attrition'].map({'No': 0, 'Yes': 1})\n",
    "\n",
    "# Convertir Gender en binario\n",
    "df['Gender'] = df['Gender'].map({'Male': 0, 'Female': 1})\n"
   ],
   "id": "56267427c60d1f35",
   "outputs": [
    {
     "name": "stdout",
     "output_type": "stream",
     "text": [
      "        hrs  absences  JobInvolvement  PerformanceRating  \\\n",
      "0  6.356785        10               2                  3   \n",
      "1  5.675418        16               2                  3   \n",
      "2  8.936332         7               2                  3   \n",
      "3  7.348949        15               2                  3   \n",
      "4  7.044108        21               3                  3   \n",
      "\n",
      "   EnvironmentSatisfaction  JobSatisfaction  WorkLifeBalance  Age  \\\n",
      "0                      3.0              1.0              3.0   32   \n",
      "1                      4.0              3.0              3.0   25   \n",
      "2                      3.0              4.0              3.0   46   \n",
      "3                      2.0              3.0              3.0   34   \n",
      "4                      2.0              4.0              2.0   30   \n",
      "\n",
      "   BusinessTravel  DistanceFromHome  ...  JobRole_Human Resources  \\\n",
      "0               0                11  ...                    False   \n",
      "1               1                 5  ...                    False   \n",
      "2               2                 2  ...                    False   \n",
      "3               0                 7  ...                    False   \n",
      "4               2                12  ...                    False   \n",
      "\n",
      "   JobRole_Laboratory Technician  JobRole_Manager  \\\n",
      "0                          False            False   \n",
      "1                          False            False   \n",
      "2                          False            False   \n",
      "3                          False            False   \n",
      "4                          False            False   \n",
      "\n",
      "   JobRole_Manufacturing Director  JobRole_Research Director  \\\n",
      "0                           False                      False   \n",
      "1                            True                      False   \n",
      "2                           False                      False   \n",
      "3                           False                      False   \n",
      "4                           False                      False   \n",
      "\n",
      "   JobRole_Research Scientist  JobRole_Sales Executive  \\\n",
      "0                        True                    False   \n",
      "1                       False                    False   \n",
      "2                       False                    False   \n",
      "3                        True                    False   \n",
      "4                       False                     True   \n",
      "\n",
      "   JobRole_Sales Representative  MaritalStatus_Married  MaritalStatus_Single  \n",
      "0                         False                  False                 False  \n",
      "1                         False                  False                 False  \n",
      "2                         False                   True                 False  \n",
      "3                         False                  False                  True  \n",
      "4                         False                  False                  True  \n",
      "\n",
      "[5 rows x 40 columns]\n"
     ]
    }
   ],
   "execution_count": 35
  },
  {
   "metadata": {
    "ExecuteTime": {
     "end_time": "2025-02-27T18:25:15.181530Z",
     "start_time": "2025-02-27T18:25:15.167277Z"
    }
   },
   "cell_type": "code",
   "source": [
    "# Verificar encoding\n",
    "print(df.head()) \n",
    "print(df.shape)   \n",
    "\n",
    "print(\"Columnas después del One-Hot Encoding:\")\n",
    "print([col for col in df.columns if 'Department' in col or 'EducationField' in col or 'JobRole' in col or 'MaritalStatus' in col])\n"
   ],
   "id": "6a9f204abaa3a75d",
   "outputs": [
    {
     "name": "stdout",
     "output_type": "stream",
     "text": [
      "        hrs  absences  JobInvolvement  PerformanceRating  \\\n",
      "0  6.356785        10               2                  3   \n",
      "1  5.675418        16               2                  3   \n",
      "2  8.936332         7               2                  3   \n",
      "3  7.348949        15               2                  3   \n",
      "4  7.044108        21               3                  3   \n",
      "\n",
      "   EnvironmentSatisfaction  JobSatisfaction  WorkLifeBalance  Age  \\\n",
      "0                      3.0              1.0              3.0   32   \n",
      "1                      4.0              3.0              3.0   25   \n",
      "2                      3.0              4.0              3.0   46   \n",
      "3                      2.0              3.0              3.0   34   \n",
      "4                      2.0              4.0              2.0   30   \n",
      "\n",
      "   BusinessTravel  DistanceFromHome  ...  JobRole_Human Resources  \\\n",
      "0               0                11  ...                    False   \n",
      "1               1                 5  ...                    False   \n",
      "2               2                 2  ...                    False   \n",
      "3               0                 7  ...                    False   \n",
      "4               2                12  ...                    False   \n",
      "\n",
      "   JobRole_Laboratory Technician  JobRole_Manager  \\\n",
      "0                          False            False   \n",
      "1                          False            False   \n",
      "2                          False            False   \n",
      "3                          False            False   \n",
      "4                          False            False   \n",
      "\n",
      "   JobRole_Manufacturing Director  JobRole_Research Director  \\\n",
      "0                           False                      False   \n",
      "1                            True                      False   \n",
      "2                           False                      False   \n",
      "3                           False                      False   \n",
      "4                           False                      False   \n",
      "\n",
      "   JobRole_Research Scientist  JobRole_Sales Executive  \\\n",
      "0                        True                    False   \n",
      "1                       False                    False   \n",
      "2                       False                    False   \n",
      "3                        True                    False   \n",
      "4                       False                     True   \n",
      "\n",
      "   JobRole_Sales Representative  MaritalStatus_Married  MaritalStatus_Single  \n",
      "0                         False                  False                 False  \n",
      "1                         False                  False                 False  \n",
      "2                         False                   True                 False  \n",
      "3                         False                  False                  True  \n",
      "4                         False                  False                  True  \n",
      "\n",
      "[5 rows x 40 columns]\n",
      "(2940, 40)\n",
      "Columnas después del One-Hot Encoding:\n",
      "['Department_Research & Development', 'Department_Sales', 'EducationField_Life Sciences', 'EducationField_Marketing', 'EducationField_Medical', 'EducationField_Other', 'EducationField_Technical Degree', 'JobRole_Human Resources', 'JobRole_Laboratory Technician', 'JobRole_Manager', 'JobRole_Manufacturing Director', 'JobRole_Research Director', 'JobRole_Research Scientist', 'JobRole_Sales Executive', 'JobRole_Sales Representative', 'MaritalStatus_Married', 'MaritalStatus_Single']\n"
     ]
    }
   ],
   "execution_count": 36
  },
  {
   "metadata": {
    "ExecuteTime": {
     "end_time": "2025-02-27T18:26:11.646098Z",
     "start_time": "2025-02-27T18:26:11.638860Z"
    }
   },
   "cell_type": "code",
   "source": [
    "print(\"\\nValores únicos en BusinessTravel después de Label Encoding:\")\n",
    "print(df['BusinessTravel'].unique())\n"
   ],
   "id": "4ace8bc52c5dc68a",
   "outputs": [
    {
     "name": "stdout",
     "output_type": "stream",
     "text": [
      "\n",
      "Valores únicos en BusinessTravel después de Label Encoding:\n",
      "[0 1 2]\n"
     ]
    }
   ],
   "execution_count": 38
  },
  {
   "metadata": {
    "ExecuteTime": {
     "end_time": "2025-02-27T18:26:02.066150Z",
     "start_time": "2025-02-27T18:26:02.055529Z"
    }
   },
   "cell_type": "code",
   "source": [
    "print(\"\\nDistribución de Attrition después de la conversión a 0/1:\")\n",
    "print(df['Attrition'].value_counts())\n",
    "\n",
    "print(\"\\nDistribución de Gender después de la conversión a 0/1:\")\n",
    "print(df['Gender'].value_counts())\n"
   ],
   "id": "a10678cab001a4a0",
   "outputs": [
    {
     "name": "stdout",
     "output_type": "stream",
     "text": [
      "\n",
      "Distribución de Attrition después de la conversión a 0/1:\n",
      "Attrition\n",
      "0    2466\n",
      "1     474\n",
      "Name: count, dtype: int64\n",
      "\n",
      "Distribución de Gender después de la conversión a 0/1:\n",
      "Gender\n",
      "0    1777\n",
      "1    1163\n",
      "Name: count, dtype: int64\n"
     ]
    }
   ],
   "execution_count": 37
  },
  {
   "metadata": {},
   "cell_type": "markdown",
   "source": [
    "\n",
    "\n",
    "\n",
    "continuará... :)"
   ],
   "id": "bb1a158f357cd141"
  },
  {
   "metadata": {},
   "cell_type": "markdown",
   "source": "",
   "id": "448e771efbc23d58"
  }
 ],
 "metadata": {
  "kernelspec": {
   "display_name": "Python 3",
   "language": "python",
   "name": "python3"
  },
  "language_info": {
   "codemirror_mode": {
    "name": "ipython",
    "version": 2
   },
   "file_extension": ".py",
   "mimetype": "text/x-python",
   "name": "python",
   "nbconvert_exporter": "python",
   "pygments_lexer": "ipython2",
   "version": "2.7.6"
  }
 },
 "nbformat": 4,
 "nbformat_minor": 5
}
