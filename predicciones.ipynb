{
 "cells": [
  {
   "cell_type": "markdown",
   "source": [
    "Ilinca Bianca Mitrea Mitrea 100495772\n",
    "\n",
    "David Mancebo Barrena 100495917"
   ],
   "metadata": {
    "collapsed": false
   },
   "id": "1bb36f064201477c"
  },
  {
   "cell_type": "markdown",
   "source": [
    "## Predicción sobre los datos de competición"
   ],
   "metadata": {
    "collapsed": false
   },
   "id": "d1e193e02ffd977e"
  },
  {
   "cell_type": "code",
   "execution_count": 29,
   "id": "initial_id",
   "metadata": {
    "collapsed": true,
    "ExecuteTime": {
     "end_time": "2025-04-07T09:54:00.377733Z",
     "start_time": "2025-04-07T09:54:00.357948500Z"
    }
   },
   "outputs": [
    {
     "name": "stdout",
     "output_type": "stream",
     "text": [
      "Forma de los datos de competición: (1470, 30)\n",
      "Forma de las predicciones: (1470, 1)\n"
     ]
    }
   ],
   "source": [
    "import pickle\n",
    "import pandas as pd\n",
    "\n",
    "filename = \"modelo_final.pkl\"\n",
    "\n",
    "best_model = pickle.load(open(filename, \"rb\"))  # Importamos el modelo (preprocesado y red neuronal)\n",
    "\n",
    "df = pd.read_csv(\"attrition_competition_08.csv\")    # Datos de competición sin label de clase\n",
    "print(f\"Forma de los datos de competición: {df.shape}\")\n",
    "\n",
    "y_pred = best_model.predict(df)\n",
    "\n",
    "y_pred_df = pd.DataFrame(y_pred, columns=[\"Attrition\"]) # Una sola columna para la etiqueta Attrition\n",
    "y_pred_df = y_pred_df.replace({0: 'no', 1: 'yes'})  # El modelo original clasifica instancias con 0 y 1, pero en los datos de entrenamiento las clases son no y yes, asi que hemos asumido que las predicciones tienen que tener este formato.\n",
    "\n",
    "print(f\"Forma de las predicciones: {y_pred_df.shape}\")\n",
    "\n",
    "# Guardar los resultados (predicciones de clase yes y no) en un csv\n",
    "pred_csv = \"predicciones.csv\"\n",
    "y_pred_df.to_csv(pred_csv, index=False)\n"
   ]
  }
 ],
 "metadata": {
  "kernelspec": {
   "display_name": "Python 3",
   "language": "python",
   "name": "python3"
  },
  "language_info": {
   "codemirror_mode": {
    "name": "ipython",
    "version": 2
   },
   "file_extension": ".py",
   "mimetype": "text/x-python",
   "name": "python",
   "nbconvert_exporter": "python",
   "pygments_lexer": "ipython2",
   "version": "2.7.6"
  }
 },
 "nbformat": 4,
 "nbformat_minor": 5
}
